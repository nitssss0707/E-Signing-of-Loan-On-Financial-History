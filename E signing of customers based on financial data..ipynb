{
 "cells": [
  {
   "cell_type": "code",
   "execution_count": 1,
   "id": "70ab89d9",
   "metadata": {},
   "outputs": [],
   "source": [
    "# Dataset link: https://www.kaggle.com/aniruddhachoudhury/esigning-of-loan-based-on-financial-history?select=financial_data.csv"
   ]
  },
  {
   "cell_type": "code",
   "execution_count": 13,
   "id": "c119f449",
   "metadata": {},
   "outputs": [],
   "source": [
    "#our task is to decide if the person is given loan or not"
   ]
  },
  {
   "cell_type": "code",
   "execution_count": 2,
   "id": "72e631a5",
   "metadata": {},
   "outputs": [],
   "source": [
    "import pandas as pd\n",
    "import numpy as np\n",
    "import seaborn as sns\n",
    "import matplotlib.pyplot as plt"
   ]
  },
  {
   "cell_type": "code",
   "execution_count": 3,
   "id": "47dab2d2",
   "metadata": {},
   "outputs": [],
   "source": [
    "df=pd.read_csv(\"financial_data.csv\")"
   ]
  },
  {
   "cell_type": "markdown",
   "id": "bd9f2523",
   "metadata": {},
   "source": [
    "#### Data exploration "
   ]
  },
  {
   "cell_type": "code",
   "execution_count": 5,
   "id": "9d6d8991",
   "metadata": {},
   "outputs": [
    {
     "data": {
      "text/html": [
       "<div>\n",
       "<style scoped>\n",
       "    .dataframe tbody tr th:only-of-type {\n",
       "        vertical-align: middle;\n",
       "    }\n",
       "\n",
       "    .dataframe tbody tr th {\n",
       "        vertical-align: top;\n",
       "    }\n",
       "\n",
       "    .dataframe thead th {\n",
       "        text-align: right;\n",
       "    }\n",
       "</style>\n",
       "<table border=\"1\" class=\"dataframe\">\n",
       "  <thead>\n",
       "    <tr style=\"text-align: right;\">\n",
       "      <th></th>\n",
       "      <th>entry_id</th>\n",
       "      <th>age</th>\n",
       "      <th>pay_schedule</th>\n",
       "      <th>home_owner</th>\n",
       "      <th>income</th>\n",
       "      <th>months_employed</th>\n",
       "      <th>years_employed</th>\n",
       "      <th>current_address_year</th>\n",
       "      <th>personal_account_m</th>\n",
       "      <th>personal_account_y</th>\n",
       "      <th>...</th>\n",
       "      <th>amount_requested</th>\n",
       "      <th>risk_score</th>\n",
       "      <th>risk_score_2</th>\n",
       "      <th>risk_score_3</th>\n",
       "      <th>risk_score_4</th>\n",
       "      <th>risk_score_5</th>\n",
       "      <th>ext_quality_score</th>\n",
       "      <th>ext_quality_score_2</th>\n",
       "      <th>inquiries_last_month</th>\n",
       "      <th>e_signed</th>\n",
       "    </tr>\n",
       "  </thead>\n",
       "  <tbody>\n",
       "    <tr>\n",
       "      <th>0</th>\n",
       "      <td>7629673</td>\n",
       "      <td>40</td>\n",
       "      <td>bi-weekly</td>\n",
       "      <td>1</td>\n",
       "      <td>3135</td>\n",
       "      <td>0</td>\n",
       "      <td>3</td>\n",
       "      <td>3</td>\n",
       "      <td>6</td>\n",
       "      <td>2</td>\n",
       "      <td>...</td>\n",
       "      <td>550</td>\n",
       "      <td>36200</td>\n",
       "      <td>0.737398</td>\n",
       "      <td>0.903517</td>\n",
       "      <td>0.487712</td>\n",
       "      <td>0.515977</td>\n",
       "      <td>0.580918</td>\n",
       "      <td>0.380918</td>\n",
       "      <td>10</td>\n",
       "      <td>1</td>\n",
       "    </tr>\n",
       "    <tr>\n",
       "      <th>1</th>\n",
       "      <td>3560428</td>\n",
       "      <td>61</td>\n",
       "      <td>weekly</td>\n",
       "      <td>0</td>\n",
       "      <td>3180</td>\n",
       "      <td>0</td>\n",
       "      <td>6</td>\n",
       "      <td>3</td>\n",
       "      <td>2</td>\n",
       "      <td>7</td>\n",
       "      <td>...</td>\n",
       "      <td>600</td>\n",
       "      <td>30150</td>\n",
       "      <td>0.738510</td>\n",
       "      <td>0.881027</td>\n",
       "      <td>0.713423</td>\n",
       "      <td>0.826402</td>\n",
       "      <td>0.730720</td>\n",
       "      <td>0.630720</td>\n",
       "      <td>9</td>\n",
       "      <td>0</td>\n",
       "    </tr>\n",
       "    <tr>\n",
       "      <th>2</th>\n",
       "      <td>6934997</td>\n",
       "      <td>23</td>\n",
       "      <td>weekly</td>\n",
       "      <td>0</td>\n",
       "      <td>1540</td>\n",
       "      <td>6</td>\n",
       "      <td>0</td>\n",
       "      <td>0</td>\n",
       "      <td>7</td>\n",
       "      <td>1</td>\n",
       "      <td>...</td>\n",
       "      <td>450</td>\n",
       "      <td>34550</td>\n",
       "      <td>0.642993</td>\n",
       "      <td>0.766554</td>\n",
       "      <td>0.595018</td>\n",
       "      <td>0.762284</td>\n",
       "      <td>0.531712</td>\n",
       "      <td>0.531712</td>\n",
       "      <td>7</td>\n",
       "      <td>0</td>\n",
       "    </tr>\n",
       "    <tr>\n",
       "      <th>3</th>\n",
       "      <td>5682812</td>\n",
       "      <td>40</td>\n",
       "      <td>bi-weekly</td>\n",
       "      <td>0</td>\n",
       "      <td>5230</td>\n",
       "      <td>0</td>\n",
       "      <td>6</td>\n",
       "      <td>1</td>\n",
       "      <td>2</td>\n",
       "      <td>7</td>\n",
       "      <td>...</td>\n",
       "      <td>700</td>\n",
       "      <td>42150</td>\n",
       "      <td>0.665224</td>\n",
       "      <td>0.960832</td>\n",
       "      <td>0.767828</td>\n",
       "      <td>0.778831</td>\n",
       "      <td>0.792552</td>\n",
       "      <td>0.592552</td>\n",
       "      <td>8</td>\n",
       "      <td>1</td>\n",
       "    </tr>\n",
       "    <tr>\n",
       "      <th>4</th>\n",
       "      <td>5335819</td>\n",
       "      <td>33</td>\n",
       "      <td>semi-monthly</td>\n",
       "      <td>0</td>\n",
       "      <td>3590</td>\n",
       "      <td>0</td>\n",
       "      <td>5</td>\n",
       "      <td>2</td>\n",
       "      <td>2</td>\n",
       "      <td>8</td>\n",
       "      <td>...</td>\n",
       "      <td>1100</td>\n",
       "      <td>53850</td>\n",
       "      <td>0.617361</td>\n",
       "      <td>0.857560</td>\n",
       "      <td>0.613487</td>\n",
       "      <td>0.665523</td>\n",
       "      <td>0.744634</td>\n",
       "      <td>0.744634</td>\n",
       "      <td>12</td>\n",
       "      <td>0</td>\n",
       "    </tr>\n",
       "  </tbody>\n",
       "</table>\n",
       "<p>5 rows × 21 columns</p>\n",
       "</div>"
      ],
      "text/plain": [
       "   entry_id  age  pay_schedule  home_owner  income  months_employed  \\\n",
       "0   7629673   40     bi-weekly           1    3135                0   \n",
       "1   3560428   61        weekly           0    3180                0   \n",
       "2   6934997   23        weekly           0    1540                6   \n",
       "3   5682812   40     bi-weekly           0    5230                0   \n",
       "4   5335819   33  semi-monthly           0    3590                0   \n",
       "\n",
       "   years_employed  current_address_year  personal_account_m  \\\n",
       "0               3                     3                   6   \n",
       "1               6                     3                   2   \n",
       "2               0                     0                   7   \n",
       "3               6                     1                   2   \n",
       "4               5                     2                   2   \n",
       "\n",
       "   personal_account_y  ...  amount_requested  risk_score  risk_score_2  \\\n",
       "0                   2  ...               550       36200      0.737398   \n",
       "1                   7  ...               600       30150      0.738510   \n",
       "2                   1  ...               450       34550      0.642993   \n",
       "3                   7  ...               700       42150      0.665224   \n",
       "4                   8  ...              1100       53850      0.617361   \n",
       "\n",
       "   risk_score_3  risk_score_4  risk_score_5  ext_quality_score  \\\n",
       "0      0.903517      0.487712      0.515977           0.580918   \n",
       "1      0.881027      0.713423      0.826402           0.730720   \n",
       "2      0.766554      0.595018      0.762284           0.531712   \n",
       "3      0.960832      0.767828      0.778831           0.792552   \n",
       "4      0.857560      0.613487      0.665523           0.744634   \n",
       "\n",
       "   ext_quality_score_2  inquiries_last_month  e_signed  \n",
       "0             0.380918                    10         1  \n",
       "1             0.630720                     9         0  \n",
       "2             0.531712                     7         0  \n",
       "3             0.592552                     8         1  \n",
       "4             0.744634                    12         0  \n",
       "\n",
       "[5 rows x 21 columns]"
      ]
     },
     "execution_count": 5,
     "metadata": {},
     "output_type": "execute_result"
    }
   ],
   "source": [
    "df.head()"
   ]
  },
  {
   "cell_type": "code",
   "execution_count": 6,
   "id": "0a2142cd",
   "metadata": {
    "scrolled": true
   },
   "outputs": [
    {
     "name": "stdout",
     "output_type": "stream",
     "text": [
      "<class 'pandas.core.frame.DataFrame'>\n",
      "RangeIndex: 17908 entries, 0 to 17907\n",
      "Data columns (total 21 columns):\n",
      " #   Column                Non-Null Count  Dtype  \n",
      "---  ------                --------------  -----  \n",
      " 0   entry_id              17908 non-null  int64  \n",
      " 1   age                   17908 non-null  int64  \n",
      " 2   pay_schedule          17908 non-null  object \n",
      " 3   home_owner            17908 non-null  int64  \n",
      " 4   income                17908 non-null  int64  \n",
      " 5   months_employed       17908 non-null  int64  \n",
      " 6   years_employed        17908 non-null  int64  \n",
      " 7   current_address_year  17908 non-null  int64  \n",
      " 8   personal_account_m    17908 non-null  int64  \n",
      " 9   personal_account_y    17908 non-null  int64  \n",
      " 10  has_debt              17908 non-null  int64  \n",
      " 11  amount_requested      17908 non-null  int64  \n",
      " 12  risk_score            17908 non-null  int64  \n",
      " 13  risk_score_2          17908 non-null  float64\n",
      " 14  risk_score_3          17908 non-null  float64\n",
      " 15  risk_score_4          17908 non-null  float64\n",
      " 16  risk_score_5          17908 non-null  float64\n",
      " 17  ext_quality_score     17908 non-null  float64\n",
      " 18  ext_quality_score_2   17908 non-null  float64\n",
      " 19  inquiries_last_month  17908 non-null  int64  \n",
      " 20  e_signed              17908 non-null  int64  \n",
      "dtypes: float64(6), int64(14), object(1)\n",
      "memory usage: 2.9+ MB\n"
     ]
    }
   ],
   "source": [
    "df.info()"
   ]
  },
  {
   "cell_type": "code",
   "execution_count": 7,
   "id": "cef6a6ef",
   "metadata": {},
   "outputs": [
    {
     "data": {
      "text/html": [
       "<div>\n",
       "<style scoped>\n",
       "    .dataframe tbody tr th:only-of-type {\n",
       "        vertical-align: middle;\n",
       "    }\n",
       "\n",
       "    .dataframe tbody tr th {\n",
       "        vertical-align: top;\n",
       "    }\n",
       "\n",
       "    .dataframe thead th {\n",
       "        text-align: right;\n",
       "    }\n",
       "</style>\n",
       "<table border=\"1\" class=\"dataframe\">\n",
       "  <thead>\n",
       "    <tr style=\"text-align: right;\">\n",
       "      <th></th>\n",
       "      <th>entry_id</th>\n",
       "      <th>age</th>\n",
       "      <th>home_owner</th>\n",
       "      <th>income</th>\n",
       "      <th>months_employed</th>\n",
       "      <th>years_employed</th>\n",
       "      <th>current_address_year</th>\n",
       "      <th>personal_account_m</th>\n",
       "      <th>personal_account_y</th>\n",
       "      <th>has_debt</th>\n",
       "      <th>amount_requested</th>\n",
       "      <th>risk_score</th>\n",
       "      <th>risk_score_2</th>\n",
       "      <th>risk_score_3</th>\n",
       "      <th>risk_score_4</th>\n",
       "      <th>risk_score_5</th>\n",
       "      <th>ext_quality_score</th>\n",
       "      <th>ext_quality_score_2</th>\n",
       "      <th>inquiries_last_month</th>\n",
       "      <th>e_signed</th>\n",
       "    </tr>\n",
       "  </thead>\n",
       "  <tbody>\n",
       "    <tr>\n",
       "      <th>count</th>\n",
       "      <td>1.790800e+04</td>\n",
       "      <td>17908.000000</td>\n",
       "      <td>17908.000000</td>\n",
       "      <td>17908.000000</td>\n",
       "      <td>17908.000000</td>\n",
       "      <td>17908.000000</td>\n",
       "      <td>17908.000000</td>\n",
       "      <td>17908.000000</td>\n",
       "      <td>17908.000000</td>\n",
       "      <td>17908.000000</td>\n",
       "      <td>17908.000000</td>\n",
       "      <td>17908.000000</td>\n",
       "      <td>17908.000000</td>\n",
       "      <td>17908.000000</td>\n",
       "      <td>17908.000000</td>\n",
       "      <td>17908.000000</td>\n",
       "      <td>17908.000000</td>\n",
       "      <td>17908.000000</td>\n",
       "      <td>17908.000000</td>\n",
       "      <td>17908.000000</td>\n",
       "    </tr>\n",
       "    <tr>\n",
       "      <th>mean</th>\n",
       "      <td>5.596978e+06</td>\n",
       "      <td>43.015412</td>\n",
       "      <td>0.425173</td>\n",
       "      <td>3657.214653</td>\n",
       "      <td>1.186006</td>\n",
       "      <td>3.526860</td>\n",
       "      <td>3.584711</td>\n",
       "      <td>3.427183</td>\n",
       "      <td>3.503350</td>\n",
       "      <td>0.795399</td>\n",
       "      <td>950.446449</td>\n",
       "      <td>61086.302211</td>\n",
       "      <td>0.690878</td>\n",
       "      <td>0.878276</td>\n",
       "      <td>0.583155</td>\n",
       "      <td>0.718252</td>\n",
       "      <td>0.623112</td>\n",
       "      <td>0.622068</td>\n",
       "      <td>6.457226</td>\n",
       "      <td>0.538251</td>\n",
       "    </tr>\n",
       "    <tr>\n",
       "      <th>std</th>\n",
       "      <td>2.562473e+06</td>\n",
       "      <td>11.873107</td>\n",
       "      <td>0.494383</td>\n",
       "      <td>1504.890063</td>\n",
       "      <td>2.400897</td>\n",
       "      <td>2.259732</td>\n",
       "      <td>2.751937</td>\n",
       "      <td>2.216440</td>\n",
       "      <td>1.955568</td>\n",
       "      <td>0.403421</td>\n",
       "      <td>698.543683</td>\n",
       "      <td>15394.255020</td>\n",
       "      <td>0.090470</td>\n",
       "      <td>0.054563</td>\n",
       "      <td>0.125061</td>\n",
       "      <td>0.120697</td>\n",
       "      <td>0.139729</td>\n",
       "      <td>0.139898</td>\n",
       "      <td>3.673093</td>\n",
       "      <td>0.498549</td>\n",
       "    </tr>\n",
       "    <tr>\n",
       "      <th>min</th>\n",
       "      <td>1.111398e+06</td>\n",
       "      <td>18.000000</td>\n",
       "      <td>0.000000</td>\n",
       "      <td>905.000000</td>\n",
       "      <td>0.000000</td>\n",
       "      <td>0.000000</td>\n",
       "      <td>0.000000</td>\n",
       "      <td>0.000000</td>\n",
       "      <td>0.000000</td>\n",
       "      <td>0.000000</td>\n",
       "      <td>350.000000</td>\n",
       "      <td>2100.000000</td>\n",
       "      <td>0.023258</td>\n",
       "      <td>0.451371</td>\n",
       "      <td>0.016724</td>\n",
       "      <td>0.153367</td>\n",
       "      <td>0.010184</td>\n",
       "      <td>0.006622</td>\n",
       "      <td>1.000000</td>\n",
       "      <td>0.000000</td>\n",
       "    </tr>\n",
       "    <tr>\n",
       "      <th>25%</th>\n",
       "      <td>3.378999e+06</td>\n",
       "      <td>34.000000</td>\n",
       "      <td>0.000000</td>\n",
       "      <td>2580.000000</td>\n",
       "      <td>0.000000</td>\n",
       "      <td>2.000000</td>\n",
       "      <td>2.000000</td>\n",
       "      <td>2.000000</td>\n",
       "      <td>2.000000</td>\n",
       "      <td>1.000000</td>\n",
       "      <td>600.000000</td>\n",
       "      <td>49350.000000</td>\n",
       "      <td>0.640993</td>\n",
       "      <td>0.850882</td>\n",
       "      <td>0.500208</td>\n",
       "      <td>0.633708</td>\n",
       "      <td>0.521735</td>\n",
       "      <td>0.519677</td>\n",
       "      <td>4.000000</td>\n",
       "      <td>0.000000</td>\n",
       "    </tr>\n",
       "    <tr>\n",
       "      <th>50%</th>\n",
       "      <td>5.608376e+06</td>\n",
       "      <td>42.000000</td>\n",
       "      <td>0.000000</td>\n",
       "      <td>3260.000000</td>\n",
       "      <td>0.000000</td>\n",
       "      <td>3.000000</td>\n",
       "      <td>3.000000</td>\n",
       "      <td>2.000000</td>\n",
       "      <td>3.000000</td>\n",
       "      <td>1.000000</td>\n",
       "      <td>700.000000</td>\n",
       "      <td>61200.000000</td>\n",
       "      <td>0.699561</td>\n",
       "      <td>0.881004</td>\n",
       "      <td>0.588208</td>\n",
       "      <td>0.725113</td>\n",
       "      <td>0.625944</td>\n",
       "      <td>0.622974</td>\n",
       "      <td>6.000000</td>\n",
       "      <td>1.000000</td>\n",
       "    </tr>\n",
       "    <tr>\n",
       "      <th>75%</th>\n",
       "      <td>7.805624e+06</td>\n",
       "      <td>51.000000</td>\n",
       "      <td>1.000000</td>\n",
       "      <td>4670.000000</td>\n",
       "      <td>1.000000</td>\n",
       "      <td>5.000000</td>\n",
       "      <td>5.000000</td>\n",
       "      <td>5.000000</td>\n",
       "      <td>4.000000</td>\n",
       "      <td>1.000000</td>\n",
       "      <td>1100.000000</td>\n",
       "      <td>72750.000000</td>\n",
       "      <td>0.752887</td>\n",
       "      <td>0.912608</td>\n",
       "      <td>0.672395</td>\n",
       "      <td>0.806681</td>\n",
       "      <td>0.729841</td>\n",
       "      <td>0.728940</td>\n",
       "      <td>8.000000</td>\n",
       "      <td>1.000000</td>\n",
       "    </tr>\n",
       "    <tr>\n",
       "      <th>max</th>\n",
       "      <td>9.999874e+06</td>\n",
       "      <td>96.000000</td>\n",
       "      <td>1.000000</td>\n",
       "      <td>9985.000000</td>\n",
       "      <td>11.000000</td>\n",
       "      <td>16.000000</td>\n",
       "      <td>12.000000</td>\n",
       "      <td>11.000000</td>\n",
       "      <td>15.000000</td>\n",
       "      <td>1.000000</td>\n",
       "      <td>10200.000000</td>\n",
       "      <td>99750.000000</td>\n",
       "      <td>0.999997</td>\n",
       "      <td>0.999024</td>\n",
       "      <td>0.978932</td>\n",
       "      <td>0.996260</td>\n",
       "      <td>0.970249</td>\n",
       "      <td>0.966953</td>\n",
       "      <td>30.000000</td>\n",
       "      <td>1.000000</td>\n",
       "    </tr>\n",
       "  </tbody>\n",
       "</table>\n",
       "</div>"
      ],
      "text/plain": [
       "           entry_id           age    home_owner        income  \\\n",
       "count  1.790800e+04  17908.000000  17908.000000  17908.000000   \n",
       "mean   5.596978e+06     43.015412      0.425173   3657.214653   \n",
       "std    2.562473e+06     11.873107      0.494383   1504.890063   \n",
       "min    1.111398e+06     18.000000      0.000000    905.000000   \n",
       "25%    3.378999e+06     34.000000      0.000000   2580.000000   \n",
       "50%    5.608376e+06     42.000000      0.000000   3260.000000   \n",
       "75%    7.805624e+06     51.000000      1.000000   4670.000000   \n",
       "max    9.999874e+06     96.000000      1.000000   9985.000000   \n",
       "\n",
       "       months_employed  years_employed  current_address_year  \\\n",
       "count     17908.000000    17908.000000          17908.000000   \n",
       "mean          1.186006        3.526860              3.584711   \n",
       "std           2.400897        2.259732              2.751937   \n",
       "min           0.000000        0.000000              0.000000   \n",
       "25%           0.000000        2.000000              2.000000   \n",
       "50%           0.000000        3.000000              3.000000   \n",
       "75%           1.000000        5.000000              5.000000   \n",
       "max          11.000000       16.000000             12.000000   \n",
       "\n",
       "       personal_account_m  personal_account_y      has_debt  amount_requested  \\\n",
       "count        17908.000000        17908.000000  17908.000000      17908.000000   \n",
       "mean             3.427183            3.503350      0.795399        950.446449   \n",
       "std              2.216440            1.955568      0.403421        698.543683   \n",
       "min              0.000000            0.000000      0.000000        350.000000   \n",
       "25%              2.000000            2.000000      1.000000        600.000000   \n",
       "50%              2.000000            3.000000      1.000000        700.000000   \n",
       "75%              5.000000            4.000000      1.000000       1100.000000   \n",
       "max             11.000000           15.000000      1.000000      10200.000000   \n",
       "\n",
       "         risk_score  risk_score_2  risk_score_3  risk_score_4  risk_score_5  \\\n",
       "count  17908.000000  17908.000000  17908.000000  17908.000000  17908.000000   \n",
       "mean   61086.302211      0.690878      0.878276      0.583155      0.718252   \n",
       "std    15394.255020      0.090470      0.054563      0.125061      0.120697   \n",
       "min     2100.000000      0.023258      0.451371      0.016724      0.153367   \n",
       "25%    49350.000000      0.640993      0.850882      0.500208      0.633708   \n",
       "50%    61200.000000      0.699561      0.881004      0.588208      0.725113   \n",
       "75%    72750.000000      0.752887      0.912608      0.672395      0.806681   \n",
       "max    99750.000000      0.999997      0.999024      0.978932      0.996260   \n",
       "\n",
       "       ext_quality_score  ext_quality_score_2  inquiries_last_month  \\\n",
       "count       17908.000000         17908.000000          17908.000000   \n",
       "mean            0.623112             0.622068              6.457226   \n",
       "std             0.139729             0.139898              3.673093   \n",
       "min             0.010184             0.006622              1.000000   \n",
       "25%             0.521735             0.519677              4.000000   \n",
       "50%             0.625944             0.622974              6.000000   \n",
       "75%             0.729841             0.728940              8.000000   \n",
       "max             0.970249             0.966953             30.000000   \n",
       "\n",
       "           e_signed  \n",
       "count  17908.000000  \n",
       "mean       0.538251  \n",
       "std        0.498549  \n",
       "min        0.000000  \n",
       "25%        0.000000  \n",
       "50%        1.000000  \n",
       "75%        1.000000  \n",
       "max        1.000000  "
      ]
     },
     "execution_count": 7,
     "metadata": {},
     "output_type": "execute_result"
    }
   ],
   "source": [
    "df.describe()"
   ]
  },
  {
   "cell_type": "code",
   "execution_count": 8,
   "id": "9710a1d1",
   "metadata": {},
   "outputs": [
    {
     "data": {
      "text/plain": [
       "(17908, 21)"
      ]
     },
     "execution_count": 8,
     "metadata": {},
     "output_type": "execute_result"
    }
   ],
   "source": [
    "df.shape"
   ]
  },
  {
   "cell_type": "code",
   "execution_count": 10,
   "id": "2fda74d2",
   "metadata": {},
   "outputs": [
    {
     "data": {
      "text/plain": [
       "Index(['entry_id', 'age', 'home_owner', 'income', 'months_employed',\n",
       "       'years_employed', 'current_address_year', 'personal_account_m',\n",
       "       'personal_account_y', 'has_debt', 'amount_requested', 'risk_score',\n",
       "       'inquiries_last_month', 'e_signed'],\n",
       "      dtype='object')"
      ]
     },
     "execution_count": 10,
     "metadata": {},
     "output_type": "execute_result"
    }
   ],
   "source": [
    "df.select_dtypes(\"int64\").columns"
   ]
  },
  {
   "cell_type": "code",
   "execution_count": 11,
   "id": "5a11dae8",
   "metadata": {},
   "outputs": [
    {
     "data": {
      "text/plain": [
       "Index(['risk_score_2', 'risk_score_3', 'risk_score_4', 'risk_score_5',\n",
       "       'ext_quality_score', 'ext_quality_score_2'],\n",
       "      dtype='object')"
      ]
     },
     "execution_count": 11,
     "metadata": {},
     "output_type": "execute_result"
    }
   ],
   "source": [
    "df.select_dtypes(\"float64\").columns"
   ]
  },
  {
   "cell_type": "code",
   "execution_count": 12,
   "id": "b6353516",
   "metadata": {},
   "outputs": [
    {
     "data": {
      "text/plain": [
       "Index(['pay_schedule'], dtype='object')"
      ]
     },
     "execution_count": 12,
     "metadata": {},
     "output_type": "execute_result"
    }
   ],
   "source": [
    "df.select_dtypes(\"object\").columns"
   ]
  },
  {
   "cell_type": "markdown",
   "id": "ffa4fbcd",
   "metadata": {},
   "source": [
    "#### Dealing with the null values"
   ]
  },
  {
   "cell_type": "code",
   "execution_count": 14,
   "id": "01e12bc7",
   "metadata": {
    "scrolled": true
   },
   "outputs": [
    {
     "data": {
      "text/plain": [
       "entry_id                0\n",
       "age                     0\n",
       "pay_schedule            0\n",
       "home_owner              0\n",
       "income                  0\n",
       "months_employed         0\n",
       "years_employed          0\n",
       "current_address_year    0\n",
       "personal_account_m      0\n",
       "personal_account_y      0\n",
       "has_debt                0\n",
       "amount_requested        0\n",
       "risk_score              0\n",
       "risk_score_2            0\n",
       "risk_score_3            0\n",
       "risk_score_4            0\n",
       "risk_score_5            0\n",
       "ext_quality_score       0\n",
       "ext_quality_score_2     0\n",
       "inquiries_last_month    0\n",
       "e_signed                0\n",
       "dtype: int64"
      ]
     },
     "execution_count": 14,
     "metadata": {},
     "output_type": "execute_result"
    }
   ],
   "source": [
    "df.isnull().sum()"
   ]
  },
  {
   "cell_type": "code",
   "execution_count": 15,
   "id": "ab3c010d",
   "metadata": {},
   "outputs": [
    {
     "data": {
      "text/plain": [
       "Index([], dtype='object')"
      ]
     },
     "execution_count": 15,
     "metadata": {},
     "output_type": "execute_result"
    }
   ],
   "source": [
    "df.columns[df.isnull().any()]"
   ]
  },
  {
   "cell_type": "markdown",
   "id": "29fb2d4a",
   "metadata": {},
   "source": [
    "#####  Encoding the categorical data "
   ]
  },
  {
   "cell_type": "code",
   "execution_count": 16,
   "id": "2be50dea",
   "metadata": {},
   "outputs": [
    {
     "data": {
      "text/plain": [
       "Index(['pay_schedule'], dtype='object')"
      ]
     },
     "execution_count": 16,
     "metadata": {},
     "output_type": "execute_result"
    }
   ],
   "source": [
    "df.select_dtypes(\"object\").columns"
   ]
  },
  {
   "cell_type": "code",
   "execution_count": 17,
   "id": "969f6c59",
   "metadata": {},
   "outputs": [
    {
     "data": {
      "text/plain": [
       "array(['bi-weekly', 'weekly', 'semi-monthly', 'monthly'], dtype=object)"
      ]
     },
     "execution_count": 17,
     "metadata": {},
     "output_type": "execute_result"
    }
   ],
   "source": [
    "df[\"pay_schedule\"].unique()"
   ]
  },
  {
   "cell_type": "code",
   "execution_count": 18,
   "id": "d9eab278",
   "metadata": {},
   "outputs": [
    {
     "data": {
      "text/plain": [
       "4"
      ]
     },
     "execution_count": 18,
     "metadata": {},
     "output_type": "execute_result"
    }
   ],
   "source": [
    "df[\"pay_schedule\"].nunique()"
   ]
  },
  {
   "cell_type": "code",
   "execution_count": 20,
   "id": "0c40e4e8",
   "metadata": {},
   "outputs": [],
   "source": [
    "df=pd.get_dummies(data=df,drop_first=True)"
   ]
  },
  {
   "cell_type": "code",
   "execution_count": 21,
   "id": "25959312",
   "metadata": {},
   "outputs": [
    {
     "data": {
      "text/plain": [
       "(17908, 23)"
      ]
     },
     "execution_count": 21,
     "metadata": {},
     "output_type": "execute_result"
    }
   ],
   "source": [
    "df.shape"
   ]
  },
  {
   "cell_type": "code",
   "execution_count": 22,
   "id": "e79df316",
   "metadata": {},
   "outputs": [
    {
     "data": {
      "text/html": [
       "<div>\n",
       "<style scoped>\n",
       "    .dataframe tbody tr th:only-of-type {\n",
       "        vertical-align: middle;\n",
       "    }\n",
       "\n",
       "    .dataframe tbody tr th {\n",
       "        vertical-align: top;\n",
       "    }\n",
       "\n",
       "    .dataframe thead th {\n",
       "        text-align: right;\n",
       "    }\n",
       "</style>\n",
       "<table border=\"1\" class=\"dataframe\">\n",
       "  <thead>\n",
       "    <tr style=\"text-align: right;\">\n",
       "      <th></th>\n",
       "      <th>entry_id</th>\n",
       "      <th>age</th>\n",
       "      <th>home_owner</th>\n",
       "      <th>income</th>\n",
       "      <th>months_employed</th>\n",
       "      <th>years_employed</th>\n",
       "      <th>current_address_year</th>\n",
       "      <th>personal_account_m</th>\n",
       "      <th>personal_account_y</th>\n",
       "      <th>has_debt</th>\n",
       "      <th>...</th>\n",
       "      <th>risk_score_3</th>\n",
       "      <th>risk_score_4</th>\n",
       "      <th>risk_score_5</th>\n",
       "      <th>ext_quality_score</th>\n",
       "      <th>ext_quality_score_2</th>\n",
       "      <th>inquiries_last_month</th>\n",
       "      <th>e_signed</th>\n",
       "      <th>pay_schedule_monthly</th>\n",
       "      <th>pay_schedule_semi-monthly</th>\n",
       "      <th>pay_schedule_weekly</th>\n",
       "    </tr>\n",
       "  </thead>\n",
       "  <tbody>\n",
       "    <tr>\n",
       "      <th>0</th>\n",
       "      <td>7629673</td>\n",
       "      <td>40</td>\n",
       "      <td>1</td>\n",
       "      <td>3135</td>\n",
       "      <td>0</td>\n",
       "      <td>3</td>\n",
       "      <td>3</td>\n",
       "      <td>6</td>\n",
       "      <td>2</td>\n",
       "      <td>1</td>\n",
       "      <td>...</td>\n",
       "      <td>0.903517</td>\n",
       "      <td>0.487712</td>\n",
       "      <td>0.515977</td>\n",
       "      <td>0.580918</td>\n",
       "      <td>0.380918</td>\n",
       "      <td>10</td>\n",
       "      <td>1</td>\n",
       "      <td>0</td>\n",
       "      <td>0</td>\n",
       "      <td>0</td>\n",
       "    </tr>\n",
       "    <tr>\n",
       "      <th>1</th>\n",
       "      <td>3560428</td>\n",
       "      <td>61</td>\n",
       "      <td>0</td>\n",
       "      <td>3180</td>\n",
       "      <td>0</td>\n",
       "      <td>6</td>\n",
       "      <td>3</td>\n",
       "      <td>2</td>\n",
       "      <td>7</td>\n",
       "      <td>1</td>\n",
       "      <td>...</td>\n",
       "      <td>0.881027</td>\n",
       "      <td>0.713423</td>\n",
       "      <td>0.826402</td>\n",
       "      <td>0.730720</td>\n",
       "      <td>0.630720</td>\n",
       "      <td>9</td>\n",
       "      <td>0</td>\n",
       "      <td>0</td>\n",
       "      <td>0</td>\n",
       "      <td>1</td>\n",
       "    </tr>\n",
       "    <tr>\n",
       "      <th>2</th>\n",
       "      <td>6934997</td>\n",
       "      <td>23</td>\n",
       "      <td>0</td>\n",
       "      <td>1540</td>\n",
       "      <td>6</td>\n",
       "      <td>0</td>\n",
       "      <td>0</td>\n",
       "      <td>7</td>\n",
       "      <td>1</td>\n",
       "      <td>1</td>\n",
       "      <td>...</td>\n",
       "      <td>0.766554</td>\n",
       "      <td>0.595018</td>\n",
       "      <td>0.762284</td>\n",
       "      <td>0.531712</td>\n",
       "      <td>0.531712</td>\n",
       "      <td>7</td>\n",
       "      <td>0</td>\n",
       "      <td>0</td>\n",
       "      <td>0</td>\n",
       "      <td>1</td>\n",
       "    </tr>\n",
       "    <tr>\n",
       "      <th>3</th>\n",
       "      <td>5682812</td>\n",
       "      <td>40</td>\n",
       "      <td>0</td>\n",
       "      <td>5230</td>\n",
       "      <td>0</td>\n",
       "      <td>6</td>\n",
       "      <td>1</td>\n",
       "      <td>2</td>\n",
       "      <td>7</td>\n",
       "      <td>1</td>\n",
       "      <td>...</td>\n",
       "      <td>0.960832</td>\n",
       "      <td>0.767828</td>\n",
       "      <td>0.778831</td>\n",
       "      <td>0.792552</td>\n",
       "      <td>0.592552</td>\n",
       "      <td>8</td>\n",
       "      <td>1</td>\n",
       "      <td>0</td>\n",
       "      <td>0</td>\n",
       "      <td>0</td>\n",
       "    </tr>\n",
       "    <tr>\n",
       "      <th>4</th>\n",
       "      <td>5335819</td>\n",
       "      <td>33</td>\n",
       "      <td>0</td>\n",
       "      <td>3590</td>\n",
       "      <td>0</td>\n",
       "      <td>5</td>\n",
       "      <td>2</td>\n",
       "      <td>2</td>\n",
       "      <td>8</td>\n",
       "      <td>1</td>\n",
       "      <td>...</td>\n",
       "      <td>0.857560</td>\n",
       "      <td>0.613487</td>\n",
       "      <td>0.665523</td>\n",
       "      <td>0.744634</td>\n",
       "      <td>0.744634</td>\n",
       "      <td>12</td>\n",
       "      <td>0</td>\n",
       "      <td>0</td>\n",
       "      <td>1</td>\n",
       "      <td>0</td>\n",
       "    </tr>\n",
       "  </tbody>\n",
       "</table>\n",
       "<p>5 rows × 23 columns</p>\n",
       "</div>"
      ],
      "text/plain": [
       "   entry_id  age  home_owner  income  months_employed  years_employed  \\\n",
       "0   7629673   40           1    3135                0               3   \n",
       "1   3560428   61           0    3180                0               6   \n",
       "2   6934997   23           0    1540                6               0   \n",
       "3   5682812   40           0    5230                0               6   \n",
       "4   5335819   33           0    3590                0               5   \n",
       "\n",
       "   current_address_year  personal_account_m  personal_account_y  has_debt  \\\n",
       "0                     3                   6                   2         1   \n",
       "1                     3                   2                   7         1   \n",
       "2                     0                   7                   1         1   \n",
       "3                     1                   2                   7         1   \n",
       "4                     2                   2                   8         1   \n",
       "\n",
       "   ...  risk_score_3  risk_score_4  risk_score_5  ext_quality_score  \\\n",
       "0  ...      0.903517      0.487712      0.515977           0.580918   \n",
       "1  ...      0.881027      0.713423      0.826402           0.730720   \n",
       "2  ...      0.766554      0.595018      0.762284           0.531712   \n",
       "3  ...      0.960832      0.767828      0.778831           0.792552   \n",
       "4  ...      0.857560      0.613487      0.665523           0.744634   \n",
       "\n",
       "   ext_quality_score_2  inquiries_last_month  e_signed  pay_schedule_monthly  \\\n",
       "0             0.380918                    10         1                     0   \n",
       "1             0.630720                     9         0                     0   \n",
       "2             0.531712                     7         0                     0   \n",
       "3             0.592552                     8         1                     0   \n",
       "4             0.744634                    12         0                     0   \n",
       "\n",
       "   pay_schedule_semi-monthly  pay_schedule_weekly  \n",
       "0                          0                    0  \n",
       "1                          0                    1  \n",
       "2                          0                    1  \n",
       "3                          0                    0  \n",
       "4                          1                    0  \n",
       "\n",
       "[5 rows x 23 columns]"
      ]
     },
     "execution_count": 22,
     "metadata": {},
     "output_type": "execute_result"
    }
   ],
   "source": [
    "df.head()"
   ]
  },
  {
   "cell_type": "code",
   "execution_count": 25,
   "id": "939fe522",
   "metadata": {},
   "outputs": [
    {
     "data": {
      "text/plain": [
       "0"
      ]
     },
     "execution_count": 25,
     "metadata": {},
     "output_type": "execute_result"
    }
   ],
   "source": [
    "len(df.select_dtypes(include='object').columns)"
   ]
  },
  {
   "cell_type": "markdown",
   "id": "7b8b372b",
   "metadata": {},
   "source": [
    "##### Countplot"
   ]
  },
  {
   "cell_type": "code",
   "execution_count": 26,
   "id": "36534a22",
   "metadata": {},
   "outputs": [
    {
     "data": {
      "text/plain": [
       "<AxesSubplot:xlabel='e_signed', ylabel='count'>"
      ]
     },
     "execution_count": 26,
     "metadata": {},
     "output_type": "execute_result"
    },
    {
     "data": {
      "image/png": "[encoded data removed]",
      "text/plain": [
       "<Figure size 432x288 with 1 Axes>"
      ]
     },
     "metadata": {
      "needs_background": "light"
     },
     "output_type": "display_data"
    }
   ],
   "source": [
    "import warnings \n",
    "warnings.filterwarnings(\"ignore\")\n",
    "sns.countplot(df[\"e_signed\"])"
   ]
  },
  {
   "cell_type": "code",
   "execution_count": 29,
   "id": "9142d666",
   "metadata": {},
   "outputs": [
    {
     "data": {
      "text/plain": [
       "9639"
      ]
     },
     "execution_count": 29,
     "metadata": {},
     "output_type": "execute_result"
    }
   ],
   "source": [
    "df[df[\"e_signed\"]==1].shape[0]"
   ]
  },
  {
   "cell_type": "code",
   "execution_count": 30,
   "id": "aedc42b8",
   "metadata": {},
   "outputs": [
    {
     "data": {
      "text/plain": [
       "8269"
      ]
     },
     "execution_count": 30,
     "metadata": {},
     "output_type": "execute_result"
    }
   ],
   "source": [
    "df.shape[0]-df[df[\"e_signed\"]==1].shape[0]"
   ]
  },
  {
   "cell_type": "markdown",
   "id": "944300c5",
   "metadata": {},
   "source": [
    "##### restructure the dataset "
   ]
  },
  {
   "cell_type": "code",
   "execution_count": 31,
   "id": "e635d4dd",
   "metadata": {},
   "outputs": [
    {
     "data": {
      "text/html": [
       "<div>\n",
       "<style scoped>\n",
       "    .dataframe tbody tr th:only-of-type {\n",
       "        vertical-align: middle;\n",
       "    }\n",
       "\n",
       "    .dataframe tbody tr th {\n",
       "        vertical-align: top;\n",
       "    }\n",
       "\n",
       "    .dataframe thead th {\n",
       "        text-align: right;\n",
       "    }\n",
       "</style>\n",
       "<table border=\"1\" class=\"dataframe\">\n",
       "  <thead>\n",
       "    <tr style=\"text-align: right;\">\n",
       "      <th></th>\n",
       "      <th>entry_id</th>\n",
       "      <th>age</th>\n",
       "      <th>home_owner</th>\n",
       "      <th>income</th>\n",
       "      <th>months_employed</th>\n",
       "      <th>years_employed</th>\n",
       "      <th>current_address_year</th>\n",
       "      <th>personal_account_m</th>\n",
       "      <th>personal_account_y</th>\n",
       "      <th>has_debt</th>\n",
       "      <th>...</th>\n",
       "      <th>risk_score_3</th>\n",
       "      <th>risk_score_4</th>\n",
       "      <th>risk_score_5</th>\n",
       "      <th>ext_quality_score</th>\n",
       "      <th>ext_quality_score_2</th>\n",
       "      <th>inquiries_last_month</th>\n",
       "      <th>e_signed</th>\n",
       "      <th>pay_schedule_monthly</th>\n",
       "      <th>pay_schedule_semi-monthly</th>\n",
       "      <th>pay_schedule_weekly</th>\n",
       "    </tr>\n",
       "  </thead>\n",
       "  <tbody>\n",
       "    <tr>\n",
       "      <th>0</th>\n",
       "      <td>7629673</td>\n",
       "      <td>40</td>\n",
       "      <td>1</td>\n",
       "      <td>3135</td>\n",
       "      <td>0</td>\n",
       "      <td>3</td>\n",
       "      <td>3</td>\n",
       "      <td>6</td>\n",
       "      <td>2</td>\n",
       "      <td>1</td>\n",
       "      <td>...</td>\n",
       "      <td>0.903517</td>\n",
       "      <td>0.487712</td>\n",
       "      <td>0.515977</td>\n",
       "      <td>0.580918</td>\n",
       "      <td>0.380918</td>\n",
       "      <td>10</td>\n",
       "      <td>1</td>\n",
       "      <td>0</td>\n",
       "      <td>0</td>\n",
       "      <td>0</td>\n",
       "    </tr>\n",
       "    <tr>\n",
       "      <th>1</th>\n",
       "      <td>3560428</td>\n",
       "      <td>61</td>\n",
       "      <td>0</td>\n",
       "      <td>3180</td>\n",
       "      <td>0</td>\n",
       "      <td>6</td>\n",
       "      <td>3</td>\n",
       "      <td>2</td>\n",
       "      <td>7</td>\n",
       "      <td>1</td>\n",
       "      <td>...</td>\n",
       "      <td>0.881027</td>\n",
       "      <td>0.713423</td>\n",
       "      <td>0.826402</td>\n",
       "      <td>0.730720</td>\n",
       "      <td>0.630720</td>\n",
       "      <td>9</td>\n",
       "      <td>0</td>\n",
       "      <td>0</td>\n",
       "      <td>0</td>\n",
       "      <td>1</td>\n",
       "    </tr>\n",
       "    <tr>\n",
       "      <th>2</th>\n",
       "      <td>6934997</td>\n",
       "      <td>23</td>\n",
       "      <td>0</td>\n",
       "      <td>1540</td>\n",
       "      <td>6</td>\n",
       "      <td>0</td>\n",
       "      <td>0</td>\n",
       "      <td>7</td>\n",
       "      <td>1</td>\n",
       "      <td>1</td>\n",
       "      <td>...</td>\n",
       "      <td>0.766554</td>\n",
       "      <td>0.595018</td>\n",
       "      <td>0.762284</td>\n",
       "      <td>0.531712</td>\n",
       "      <td>0.531712</td>\n",
       "      <td>7</td>\n",
       "      <td>0</td>\n",
       "      <td>0</td>\n",
       "      <td>0</td>\n",
       "      <td>1</td>\n",
       "    </tr>\n",
       "    <tr>\n",
       "      <th>3</th>\n",
       "      <td>5682812</td>\n",
       "      <td>40</td>\n",
       "      <td>0</td>\n",
       "      <td>5230</td>\n",
       "      <td>0</td>\n",
       "      <td>6</td>\n",
       "      <td>1</td>\n",
       "      <td>2</td>\n",
       "      <td>7</td>\n",
       "      <td>1</td>\n",
       "      <td>...</td>\n",
       "      <td>0.960832</td>\n",
       "      <td>0.767828</td>\n",
       "      <td>0.778831</td>\n",
       "      <td>0.792552</td>\n",
       "      <td>0.592552</td>\n",
       "      <td>8</td>\n",
       "      <td>1</td>\n",
       "      <td>0</td>\n",
       "      <td>0</td>\n",
       "      <td>0</td>\n",
       "    </tr>\n",
       "    <tr>\n",
       "      <th>4</th>\n",
       "      <td>5335819</td>\n",
       "      <td>33</td>\n",
       "      <td>0</td>\n",
       "      <td>3590</td>\n",
       "      <td>0</td>\n",
       "      <td>5</td>\n",
       "      <td>2</td>\n",
       "      <td>2</td>\n",
       "      <td>8</td>\n",
       "      <td>1</td>\n",
       "      <td>...</td>\n",
       "      <td>0.857560</td>\n",
       "      <td>0.613487</td>\n",
       "      <td>0.665523</td>\n",
       "      <td>0.744634</td>\n",
       "      <td>0.744634</td>\n",
       "      <td>12</td>\n",
       "      <td>0</td>\n",
       "      <td>0</td>\n",
       "      <td>1</td>\n",
       "      <td>0</td>\n",
       "    </tr>\n",
       "  </tbody>\n",
       "</table>\n",
       "<p>5 rows × 23 columns</p>\n",
       "</div>"
      ],
      "text/plain": [
       "   entry_id  age  home_owner  income  months_employed  years_employed  \\\n",
       "0   7629673   40           1    3135                0               3   \n",
       "1   3560428   61           0    3180                0               6   \n",
       "2   6934997   23           0    1540                6               0   \n",
       "3   5682812   40           0    5230                0               6   \n",
       "4   5335819   33           0    3590                0               5   \n",
       "\n",
       "   current_address_year  personal_account_m  personal_account_y  has_debt  \\\n",
       "0                     3                   6                   2         1   \n",
       "1                     3                   2                   7         1   \n",
       "2                     0                   7                   1         1   \n",
       "3                     1                   2                   7         1   \n",
       "4                     2                   2                   8         1   \n",
       "\n",
       "   ...  risk_score_3  risk_score_4  risk_score_5  ext_quality_score  \\\n",
       "0  ...      0.903517      0.487712      0.515977           0.580918   \n",
       "1  ...      0.881027      0.713423      0.826402           0.730720   \n",
       "2  ...      0.766554      0.595018      0.762284           0.531712   \n",
       "3  ...      0.960832      0.767828      0.778831           0.792552   \n",
       "4  ...      0.857560      0.613487      0.665523           0.744634   \n",
       "\n",
       "   ext_quality_score_2  inquiries_last_month  e_signed  pay_schedule_monthly  \\\n",
       "0             0.380918                    10         1                     0   \n",
       "1             0.630720                     9         0                     0   \n",
       "2             0.531712                     7         0                     0   \n",
       "3             0.592552                     8         1                     0   \n",
       "4             0.744634                    12         0                     0   \n",
       "\n",
       "   pay_schedule_semi-monthly  pay_schedule_weekly  \n",
       "0                          0                    0  \n",
       "1                          0                    1  \n",
       "2                          0                    1  \n",
       "3                          0                    0  \n",
       "4                          1                    0  \n",
       "\n",
       "[5 rows x 23 columns]"
      ]
     },
     "execution_count": 31,
     "metadata": {},
     "output_type": "execute_result"
    }
   ],
   "source": [
    "df.head()"
   ]
  },
  {
   "cell_type": "code",
   "execution_count": 33,
   "id": "acc1cd97",
   "metadata": {},
   "outputs": [],
   "source": [
    "df[\"months employed\"]=df[\"months_employed\"]+df[\"years_employed\"]*12"
   ]
  },
  {
   "cell_type": "code",
   "execution_count": 34,
   "id": "0d65a816",
   "metadata": {},
   "outputs": [],
   "source": [
    "df=df.drop([\"months_employed\",\"years_employed\"],axis=1)"
   ]
  },
  {
   "cell_type": "code",
   "execution_count": 35,
   "id": "8ac02228",
   "metadata": {},
   "outputs": [
    {
     "data": {
      "text/plain": [
       "(17908, 22)"
      ]
     },
     "execution_count": 35,
     "metadata": {},
     "output_type": "execute_result"
    }
   ],
   "source": [
    "df.shape"
   ]
  },
  {
   "cell_type": "code",
   "execution_count": 36,
   "id": "1503d4f8",
   "metadata": {},
   "outputs": [
    {
     "data": {
      "text/html": [
       "<div>\n",
       "<style scoped>\n",
       "    .dataframe tbody tr th:only-of-type {\n",
       "        vertical-align: middle;\n",
       "    }\n",
       "\n",
       "    .dataframe tbody tr th {\n",
       "        vertical-align: top;\n",
       "    }\n",
       "\n",
       "    .dataframe thead th {\n",
       "        text-align: right;\n",
       "    }\n",
       "</style>\n",
       "<table border=\"1\" class=\"dataframe\">\n",
       "  <thead>\n",
       "    <tr style=\"text-align: right;\">\n",
       "      <th></th>\n",
       "      <th>entry_id</th>\n",
       "      <th>age</th>\n",
       "      <th>home_owner</th>\n",
       "      <th>income</th>\n",
       "      <th>current_address_year</th>\n",
       "      <th>personal_account_m</th>\n",
       "      <th>personal_account_y</th>\n",
       "      <th>has_debt</th>\n",
       "      <th>amount_requested</th>\n",
       "      <th>risk_score</th>\n",
       "      <th>...</th>\n",
       "      <th>risk_score_4</th>\n",
       "      <th>risk_score_5</th>\n",
       "      <th>ext_quality_score</th>\n",
       "      <th>ext_quality_score_2</th>\n",
       "      <th>inquiries_last_month</th>\n",
       "      <th>e_signed</th>\n",
       "      <th>pay_schedule_monthly</th>\n",
       "      <th>pay_schedule_semi-monthly</th>\n",
       "      <th>pay_schedule_weekly</th>\n",
       "      <th>months employed</th>\n",
       "    </tr>\n",
       "  </thead>\n",
       "  <tbody>\n",
       "    <tr>\n",
       "      <th>0</th>\n",
       "      <td>7629673</td>\n",
       "      <td>40</td>\n",
       "      <td>1</td>\n",
       "      <td>3135</td>\n",
       "      <td>3</td>\n",
       "      <td>6</td>\n",
       "      <td>2</td>\n",
       "      <td>1</td>\n",
       "      <td>550</td>\n",
       "      <td>36200</td>\n",
       "      <td>...</td>\n",
       "      <td>0.487712</td>\n",
       "      <td>0.515977</td>\n",
       "      <td>0.580918</td>\n",
       "      <td>0.380918</td>\n",
       "      <td>10</td>\n",
       "      <td>1</td>\n",
       "      <td>0</td>\n",
       "      <td>0</td>\n",
       "      <td>0</td>\n",
       "      <td>36</td>\n",
       "    </tr>\n",
       "    <tr>\n",
       "      <th>1</th>\n",
       "      <td>3560428</td>\n",
       "      <td>61</td>\n",
       "      <td>0</td>\n",
       "      <td>3180</td>\n",
       "      <td>3</td>\n",
       "      <td>2</td>\n",
       "      <td>7</td>\n",
       "      <td>1</td>\n",
       "      <td>600</td>\n",
       "      <td>30150</td>\n",
       "      <td>...</td>\n",
       "      <td>0.713423</td>\n",
       "      <td>0.826402</td>\n",
       "      <td>0.730720</td>\n",
       "      <td>0.630720</td>\n",
       "      <td>9</td>\n",
       "      <td>0</td>\n",
       "      <td>0</td>\n",
       "      <td>0</td>\n",
       "      <td>1</td>\n",
       "      <td>72</td>\n",
       "    </tr>\n",
       "    <tr>\n",
       "      <th>2</th>\n",
       "      <td>6934997</td>\n",
       "      <td>23</td>\n",
       "      <td>0</td>\n",
       "      <td>1540</td>\n",
       "      <td>0</td>\n",
       "      <td>7</td>\n",
       "      <td>1</td>\n",
       "      <td>1</td>\n",
       "      <td>450</td>\n",
       "      <td>34550</td>\n",
       "      <td>...</td>\n",
       "      <td>0.595018</td>\n",
       "      <td>0.762284</td>\n",
       "      <td>0.531712</td>\n",
       "      <td>0.531712</td>\n",
       "      <td>7</td>\n",
       "      <td>0</td>\n",
       "      <td>0</td>\n",
       "      <td>0</td>\n",
       "      <td>1</td>\n",
       "      <td>6</td>\n",
       "    </tr>\n",
       "    <tr>\n",
       "      <th>3</th>\n",
       "      <td>5682812</td>\n",
       "      <td>40</td>\n",
       "      <td>0</td>\n",
       "      <td>5230</td>\n",
       "      <td>1</td>\n",
       "      <td>2</td>\n",
       "      <td>7</td>\n",
       "      <td>1</td>\n",
       "      <td>700</td>\n",
       "      <td>42150</td>\n",
       "      <td>...</td>\n",
       "      <td>0.767828</td>\n",
       "      <td>0.778831</td>\n",
       "      <td>0.792552</td>\n",
       "      <td>0.592552</td>\n",
       "      <td>8</td>\n",
       "      <td>1</td>\n",
       "      <td>0</td>\n",
       "      <td>0</td>\n",
       "      <td>0</td>\n",
       "      <td>72</td>\n",
       "    </tr>\n",
       "    <tr>\n",
       "      <th>4</th>\n",
       "      <td>5335819</td>\n",
       "      <td>33</td>\n",
       "      <td>0</td>\n",
       "      <td>3590</td>\n",
       "      <td>2</td>\n",
       "      <td>2</td>\n",
       "      <td>8</td>\n",
       "      <td>1</td>\n",
       "      <td>1100</td>\n",
       "      <td>53850</td>\n",
       "      <td>...</td>\n",
       "      <td>0.613487</td>\n",
       "      <td>0.665523</td>\n",
       "      <td>0.744634</td>\n",
       "      <td>0.744634</td>\n",
       "      <td>12</td>\n",
       "      <td>0</td>\n",
       "      <td>0</td>\n",
       "      <td>1</td>\n",
       "      <td>0</td>\n",
       "      <td>60</td>\n",
       "    </tr>\n",
       "  </tbody>\n",
       "</table>\n",
       "<p>5 rows × 22 columns</p>\n",
       "</div>"
      ],
      "text/plain": [
       "   entry_id  age  home_owner  income  current_address_year  \\\n",
       "0   7629673   40           1    3135                     3   \n",
       "1   3560428   61           0    3180                     3   \n",
       "2   6934997   23           0    1540                     0   \n",
       "3   5682812   40           0    5230                     1   \n",
       "4   5335819   33           0    3590                     2   \n",
       "\n",
       "   personal_account_m  personal_account_y  has_debt  amount_requested  \\\n",
       "0                   6                   2         1               550   \n",
       "1                   2                   7         1               600   \n",
       "2                   7                   1         1               450   \n",
       "3                   2                   7         1               700   \n",
       "4                   2                   8         1              1100   \n",
       "\n",
       "   risk_score  ...  risk_score_4  risk_score_5  ext_quality_score  \\\n",
       "0       36200  ...      0.487712      0.515977           0.580918   \n",
       "1       30150  ...      0.713423      0.826402           0.730720   \n",
       "2       34550  ...      0.595018      0.762284           0.531712   \n",
       "3       42150  ...      0.767828      0.778831           0.792552   \n",
       "4       53850  ...      0.613487      0.665523           0.744634   \n",
       "\n",
       "   ext_quality_score_2  inquiries_last_month  e_signed  pay_schedule_monthly  \\\n",
       "0             0.380918                    10         1                     0   \n",
       "1             0.630720                     9         0                     0   \n",
       "2             0.531712                     7         0                     0   \n",
       "3             0.592552                     8         1                     0   \n",
       "4             0.744634                    12         0                     0   \n",
       "\n",
       "   pay_schedule_semi-monthly  pay_schedule_weekly  months employed  \n",
       "0                          0                    0               36  \n",
       "1                          0                    1               72  \n",
       "2                          0                    1                6  \n",
       "3                          0                    0               72  \n",
       "4                          1                    0               60  \n",
       "\n",
       "[5 rows x 22 columns]"
      ]
     },
     "execution_count": 36,
     "metadata": {},
     "output_type": "execute_result"
    }
   ],
   "source": [
    "df.head()"
   ]
  },
  {
   "cell_type": "code",
   "execution_count": 37,
   "id": "6e2f1180",
   "metadata": {},
   "outputs": [],
   "source": [
    "df[\"personnal account months\"]=df[\"personal_account_m\"]+df[\"personal_account_y\"]*12"
   ]
  },
  {
   "cell_type": "code",
   "execution_count": 38,
   "id": "8c0ba95a",
   "metadata": {},
   "outputs": [],
   "source": [
    "df=df.drop([\"personal_account_m\",\"personal_account_y\"],axis=1)"
   ]
  },
  {
   "cell_type": "code",
   "execution_count": 39,
   "id": "5d30e858",
   "metadata": {},
   "outputs": [
    {
     "data": {
      "text/plain": [
       "(17908, 21)"
      ]
     },
     "execution_count": 39,
     "metadata": {},
     "output_type": "execute_result"
    }
   ],
   "source": [
    "df.shape"
   ]
  },
  {
   "cell_type": "markdown",
   "id": "30f4a46e",
   "metadata": {},
   "source": [
    "#### Correlation matrix and heatmap"
   ]
  },
  {
   "cell_type": "code",
   "execution_count": 41,
   "id": "e66f2987",
   "metadata": {},
   "outputs": [],
   "source": [
    "df2=df.drop(['entry_id', 'e_signed'],axis=1)"
   ]
  },
  {
   "cell_type": "code",
   "execution_count": 42,
   "id": "7ff30183",
   "metadata": {},
   "outputs": [
    {
     "data": {
      "text/plain": [
       "<AxesSubplot:>"
      ]
     },
     "execution_count": 42,
     "metadata": {},
     "output_type": "execute_result"
    },
    {
     "data": {
      "image/png": "[encoded data removed]",
      "text/plain": [
       "<Figure size 1080x1080 with 1 Axes>"
      ]
     },
     "metadata": {
      "needs_background": "light"
     },
     "output_type": "display_data"
    }
   ],
   "source": [
    "df2.corrwith(df[\"e_signed\"]).plot.bar(\n",
    " figsize=(15,15),grid=True\n",
    ")"
   ]
  },
  {
   "cell_type": "code",
   "execution_count": 46,
   "id": "42f4849a",
   "metadata": {},
   "outputs": [
    {
     "data": {
      "text/plain": [
       "<AxesSubplot:>"
      ]
     },
     "execution_count": 46,
     "metadata": {},
     "output_type": "execute_result"
    },
    {
     "data": {
      "image/png": "[encoded data removed]",
      "text/plain": [
       "<Figure size 1080x1080 with 2 Axes>"
      ]
     },
     "metadata": {
      "needs_background": "light"
     },
     "output_type": "display_data"
    }
   ],
   "source": [
    "plt.figure(figsize=(15,15))\n",
    "sns.heatmap(df.corr(),annot=True)"
   ]
  },
  {
   "cell_type": "code",
   "execution_count": 47,
   "id": "c4b149f2",
   "metadata": {},
   "outputs": [
    {
     "data": {
      "text/html": [
       "<div>\n",
       "<style scoped>\n",
       "    .dataframe tbody tr th:only-of-type {\n",
       "        vertical-align: middle;\n",
       "    }\n",
       "\n",
       "    .dataframe tbody tr th {\n",
       "        vertical-align: top;\n",
       "    }\n",
       "\n",
       "    .dataframe thead th {\n",
       "        text-align: right;\n",
       "    }\n",
       "</style>\n",
       "<table border=\"1\" class=\"dataframe\">\n",
       "  <thead>\n",
       "    <tr style=\"text-align: right;\">\n",
       "      <th></th>\n",
       "      <th>entry_id</th>\n",
       "      <th>age</th>\n",
       "      <th>home_owner</th>\n",
       "      <th>income</th>\n",
       "      <th>current_address_year</th>\n",
       "      <th>has_debt</th>\n",
       "      <th>amount_requested</th>\n",
       "      <th>risk_score</th>\n",
       "      <th>risk_score_2</th>\n",
       "      <th>risk_score_3</th>\n",
       "      <th>...</th>\n",
       "      <th>risk_score_5</th>\n",
       "      <th>ext_quality_score</th>\n",
       "      <th>ext_quality_score_2</th>\n",
       "      <th>inquiries_last_month</th>\n",
       "      <th>e_signed</th>\n",
       "      <th>pay_schedule_monthly</th>\n",
       "      <th>pay_schedule_semi-monthly</th>\n",
       "      <th>pay_schedule_weekly</th>\n",
       "      <th>months employed</th>\n",
       "      <th>personnal account months</th>\n",
       "    </tr>\n",
       "  </thead>\n",
       "  <tbody>\n",
       "    <tr>\n",
       "      <th>entry_id</th>\n",
       "      <td>1.000000</td>\n",
       "      <td>0.004333</td>\n",
       "      <td>0.002528</td>\n",
       "      <td>-0.009034</td>\n",
       "      <td>-0.001701</td>\n",
       "      <td>0.007476</td>\n",
       "      <td>0.001720</td>\n",
       "      <td>0.006780</td>\n",
       "      <td>0.013761</td>\n",
       "      <td>-0.005550</td>\n",
       "      <td>...</td>\n",
       "      <td>0.004949</td>\n",
       "      <td>0.006025</td>\n",
       "      <td>0.006392</td>\n",
       "      <td>-0.003492</td>\n",
       "      <td>0.002735</td>\n",
       "      <td>-0.017324</td>\n",
       "      <td>-0.013031</td>\n",
       "      <td>-0.003348</td>\n",
       "      <td>0.000432</td>\n",
       "      <td>-0.007839</td>\n",
       "    </tr>\n",
       "    <tr>\n",
       "      <th>age</th>\n",
       "      <td>0.004333</td>\n",
       "      <td>1.000000</td>\n",
       "      <td>0.142046</td>\n",
       "      <td>0.174062</td>\n",
       "      <td>0.146554</td>\n",
       "      <td>-0.043808</td>\n",
       "      <td>0.084132</td>\n",
       "      <td>0.162868</td>\n",
       "      <td>-0.019163</td>\n",
       "      <td>0.111258</td>\n",
       "      <td>...</td>\n",
       "      <td>0.093710</td>\n",
       "      <td>0.032265</td>\n",
       "      <td>0.040019</td>\n",
       "      <td>0.041224</td>\n",
       "      <td>-0.096998</td>\n",
       "      <td>0.141529</td>\n",
       "      <td>0.026439</td>\n",
       "      <td>-0.070750</td>\n",
       "      <td>0.175693</td>\n",
       "      <td>0.040405</td>\n",
       "    </tr>\n",
       "    <tr>\n",
       "      <th>home_owner</th>\n",
       "      <td>0.002528</td>\n",
       "      <td>0.142046</td>\n",
       "      <td>1.000000</td>\n",
       "      <td>0.147487</td>\n",
       "      <td>0.179291</td>\n",
       "      <td>-0.076206</td>\n",
       "      <td>0.033996</td>\n",
       "      <td>0.113608</td>\n",
       "      <td>0.000647</td>\n",
       "      <td>0.049708</td>\n",
       "      <td>...</td>\n",
       "      <td>-0.080470</td>\n",
       "      <td>0.010080</td>\n",
       "      <td>0.005507</td>\n",
       "      <td>0.011215</td>\n",
       "      <td>-0.047409</td>\n",
       "      <td>0.043587</td>\n",
       "      <td>0.004283</td>\n",
       "      <td>-0.025521</td>\n",
       "      <td>0.029342</td>\n",
       "      <td>-0.046213</td>\n",
       "    </tr>\n",
       "    <tr>\n",
       "      <th>income</th>\n",
       "      <td>-0.009034</td>\n",
       "      <td>0.174062</td>\n",
       "      <td>0.147487</td>\n",
       "      <td>1.000000</td>\n",
       "      <td>0.046982</td>\n",
       "      <td>-0.011199</td>\n",
       "      <td>0.289099</td>\n",
       "      <td>0.168375</td>\n",
       "      <td>-0.023627</td>\n",
       "      <td>0.058665</td>\n",
       "      <td>...</td>\n",
       "      <td>0.025179</td>\n",
       "      <td>-0.008429</td>\n",
       "      <td>-0.003323</td>\n",
       "      <td>0.051622</td>\n",
       "      <td>0.031377</td>\n",
       "      <td>0.034177</td>\n",
       "      <td>0.065759</td>\n",
       "      <td>-0.025361</td>\n",
       "      <td>0.099071</td>\n",
       "      <td>-0.001157</td>\n",
       "    </tr>\n",
       "    <tr>\n",
       "      <th>current_address_year</th>\n",
       "      <td>-0.001701</td>\n",
       "      <td>0.146554</td>\n",
       "      <td>0.179291</td>\n",
       "      <td>0.046982</td>\n",
       "      <td>1.000000</td>\n",
       "      <td>0.017423</td>\n",
       "      <td>0.067893</td>\n",
       "      <td>0.090535</td>\n",
       "      <td>-0.060412</td>\n",
       "      <td>0.058936</td>\n",
       "      <td>...</td>\n",
       "      <td>-0.094545</td>\n",
       "      <td>0.003362</td>\n",
       "      <td>0.009093</td>\n",
       "      <td>0.013659</td>\n",
       "      <td>-0.018969</td>\n",
       "      <td>0.011867</td>\n",
       "      <td>0.017395</td>\n",
       "      <td>-0.013041</td>\n",
       "      <td>0.343346</td>\n",
       "      <td>0.119105</td>\n",
       "    </tr>\n",
       "    <tr>\n",
       "      <th>has_debt</th>\n",
       "      <td>0.007476</td>\n",
       "      <td>-0.043808</td>\n",
       "      <td>-0.076206</td>\n",
       "      <td>-0.011199</td>\n",
       "      <td>0.017423</td>\n",
       "      <td>1.000000</td>\n",
       "      <td>-0.008445</td>\n",
       "      <td>-0.020332</td>\n",
       "      <td>-0.034691</td>\n",
       "      <td>0.001108</td>\n",
       "      <td>...</td>\n",
       "      <td>0.002341</td>\n",
       "      <td>-0.021523</td>\n",
       "      <td>-0.009055</td>\n",
       "      <td>-0.001007</td>\n",
       "      <td>0.039192</td>\n",
       "      <td>-0.088523</td>\n",
       "      <td>-0.001747</td>\n",
       "      <td>0.022986</td>\n",
       "      <td>0.005314</td>\n",
       "      <td>-0.007454</td>\n",
       "    </tr>\n",
       "    <tr>\n",
       "      <th>amount_requested</th>\n",
       "      <td>0.001720</td>\n",
       "      <td>0.084132</td>\n",
       "      <td>0.033996</td>\n",
       "      <td>0.289099</td>\n",
       "      <td>0.067893</td>\n",
       "      <td>-0.008445</td>\n",
       "      <td>1.000000</td>\n",
       "      <td>0.290716</td>\n",
       "      <td>0.005405</td>\n",
       "      <td>0.045465</td>\n",
       "      <td>...</td>\n",
       "      <td>0.071470</td>\n",
       "      <td>0.025167</td>\n",
       "      <td>0.028052</td>\n",
       "      <td>-0.036197</td>\n",
       "      <td>0.069572</td>\n",
       "      <td>0.019609</td>\n",
       "      <td>0.066022</td>\n",
       "      <td>-0.015255</td>\n",
       "      <td>0.081987</td>\n",
       "      <td>0.047924</td>\n",
       "    </tr>\n",
       "    <tr>\n",
       "      <th>risk_score</th>\n",
       "      <td>0.006780</td>\n",
       "      <td>0.162868</td>\n",
       "      <td>0.113608</td>\n",
       "      <td>0.168375</td>\n",
       "      <td>0.090535</td>\n",
       "      <td>-0.020332</td>\n",
       "      <td>0.290716</td>\n",
       "      <td>1.000000</td>\n",
       "      <td>0.208188</td>\n",
       "      <td>0.104861</td>\n",
       "      <td>...</td>\n",
       "      <td>0.130464</td>\n",
       "      <td>0.098649</td>\n",
       "      <td>0.108170</td>\n",
       "      <td>-0.261076</td>\n",
       "      <td>0.086098</td>\n",
       "      <td>0.028606</td>\n",
       "      <td>0.026159</td>\n",
       "      <td>-0.038039</td>\n",
       "      <td>0.096245</td>\n",
       "      <td>0.013017</td>\n",
       "    </tr>\n",
       "    <tr>\n",
       "      <th>risk_score_2</th>\n",
       "      <td>0.013761</td>\n",
       "      <td>-0.019163</td>\n",
       "      <td>0.000647</td>\n",
       "      <td>-0.023627</td>\n",
       "      <td>-0.060412</td>\n",
       "      <td>-0.034691</td>\n",
       "      <td>0.005405</td>\n",
       "      <td>0.208188</td>\n",
       "      <td>1.000000</td>\n",
       "      <td>0.184249</td>\n",
       "      <td>...</td>\n",
       "      <td>0.227510</td>\n",
       "      <td>0.207386</td>\n",
       "      <td>0.200195</td>\n",
       "      <td>-0.214013</td>\n",
       "      <td>0.010473</td>\n",
       "      <td>-0.012258</td>\n",
       "      <td>-0.038701</td>\n",
       "      <td>0.030194</td>\n",
       "      <td>-0.054721</td>\n",
       "      <td>0.025542</td>\n",
       "    </tr>\n",
       "    <tr>\n",
       "      <th>risk_score_3</th>\n",
       "      <td>-0.005550</td>\n",
       "      <td>0.111258</td>\n",
       "      <td>0.049708</td>\n",
       "      <td>0.058665</td>\n",
       "      <td>0.058936</td>\n",
       "      <td>0.001108</td>\n",
       "      <td>0.045465</td>\n",
       "      <td>0.104861</td>\n",
       "      <td>0.184249</td>\n",
       "      <td>1.000000</td>\n",
       "      <td>...</td>\n",
       "      <td>0.480369</td>\n",
       "      <td>0.256866</td>\n",
       "      <td>0.267931</td>\n",
       "      <td>-0.042011</td>\n",
       "      <td>-0.037483</td>\n",
       "      <td>0.038136</td>\n",
       "      <td>0.035344</td>\n",
       "      <td>-0.070332</td>\n",
       "      <td>0.073461</td>\n",
       "      <td>0.082662</td>\n",
       "    </tr>\n",
       "    <tr>\n",
       "      <th>risk_score_4</th>\n",
       "      <td>0.006963</td>\n",
       "      <td>0.069191</td>\n",
       "      <td>-0.137293</td>\n",
       "      <td>-0.001254</td>\n",
       "      <td>-0.161052</td>\n",
       "      <td>0.002074</td>\n",
       "      <td>0.061459</td>\n",
       "      <td>0.120234</td>\n",
       "      <td>0.225259</td>\n",
       "      <td>0.166067</td>\n",
       "      <td>...</td>\n",
       "      <td>0.588190</td>\n",
       "      <td>0.243864</td>\n",
       "      <td>0.237969</td>\n",
       "      <td>-0.033654</td>\n",
       "      <td>0.006147</td>\n",
       "      <td>-0.165436</td>\n",
       "      <td>-0.079879</td>\n",
       "      <td>0.312952</td>\n",
       "      <td>-0.031087</td>\n",
       "      <td>0.007208</td>\n",
       "    </tr>\n",
       "    <tr>\n",
       "      <th>risk_score_5</th>\n",
       "      <td>0.004949</td>\n",
       "      <td>0.093710</td>\n",
       "      <td>-0.080470</td>\n",
       "      <td>0.025179</td>\n",
       "      <td>-0.094545</td>\n",
       "      <td>0.002341</td>\n",
       "      <td>0.071470</td>\n",
       "      <td>0.130464</td>\n",
       "      <td>0.227510</td>\n",
       "      <td>0.480369</td>\n",
       "      <td>...</td>\n",
       "      <td>1.000000</td>\n",
       "      <td>0.284291</td>\n",
       "      <td>0.279478</td>\n",
       "      <td>-0.015720</td>\n",
       "      <td>-0.007541</td>\n",
       "      <td>-0.095406</td>\n",
       "      <td>-0.034024</td>\n",
       "      <td>0.213459</td>\n",
       "      <td>-0.001504</td>\n",
       "      <td>0.039261</td>\n",
       "    </tr>\n",
       "    <tr>\n",
       "      <th>ext_quality_score</th>\n",
       "      <td>0.006025</td>\n",
       "      <td>0.032265</td>\n",
       "      <td>0.010080</td>\n",
       "      <td>-0.008429</td>\n",
       "      <td>0.003362</td>\n",
       "      <td>-0.021523</td>\n",
       "      <td>0.025167</td>\n",
       "      <td>0.098649</td>\n",
       "      <td>0.207386</td>\n",
       "      <td>0.256866</td>\n",
       "      <td>...</td>\n",
       "      <td>0.284291</td>\n",
       "      <td>1.000000</td>\n",
       "      <td>0.359777</td>\n",
       "      <td>-0.075221</td>\n",
       "      <td>-0.032129</td>\n",
       "      <td>0.020292</td>\n",
       "      <td>-0.008670</td>\n",
       "      <td>0.002341</td>\n",
       "      <td>0.013537</td>\n",
       "      <td>0.038625</td>\n",
       "    </tr>\n",
       "    <tr>\n",
       "      <th>ext_quality_score_2</th>\n",
       "      <td>0.006392</td>\n",
       "      <td>0.040019</td>\n",
       "      <td>0.005507</td>\n",
       "      <td>-0.003323</td>\n",
       "      <td>0.009093</td>\n",
       "      <td>-0.009055</td>\n",
       "      <td>0.028052</td>\n",
       "      <td>0.108170</td>\n",
       "      <td>0.200195</td>\n",
       "      <td>0.267931</td>\n",
       "      <td>...</td>\n",
       "      <td>0.279478</td>\n",
       "      <td>0.359777</td>\n",
       "      <td>1.000000</td>\n",
       "      <td>-0.081526</td>\n",
       "      <td>-0.024271</td>\n",
       "      <td>0.026995</td>\n",
       "      <td>-0.006770</td>\n",
       "      <td>-0.005494</td>\n",
       "      <td>0.030351</td>\n",
       "      <td>0.028760</td>\n",
       "    </tr>\n",
       "    <tr>\n",
       "      <th>inquiries_last_month</th>\n",
       "      <td>-0.003492</td>\n",
       "      <td>0.041224</td>\n",
       "      <td>0.011215</td>\n",
       "      <td>0.051622</td>\n",
       "      <td>0.013659</td>\n",
       "      <td>-0.001007</td>\n",
       "      <td>-0.036197</td>\n",
       "      <td>-0.261076</td>\n",
       "      <td>-0.214013</td>\n",
       "      <td>-0.042011</td>\n",
       "      <td>...</td>\n",
       "      <td>-0.015720</td>\n",
       "      <td>-0.075221</td>\n",
       "      <td>-0.081526</td>\n",
       "      <td>1.000000</td>\n",
       "      <td>-0.025165</td>\n",
       "      <td>0.019685</td>\n",
       "      <td>0.043679</td>\n",
       "      <td>-0.056795</td>\n",
       "      <td>0.009738</td>\n",
       "      <td>0.001268</td>\n",
       "    </tr>\n",
       "    <tr>\n",
       "      <th>e_signed</th>\n",
       "      <td>0.002735</td>\n",
       "      <td>-0.096998</td>\n",
       "      <td>-0.047409</td>\n",
       "      <td>0.031377</td>\n",
       "      <td>-0.018969</td>\n",
       "      <td>0.039192</td>\n",
       "      <td>0.069572</td>\n",
       "      <td>0.086098</td>\n",
       "      <td>0.010473</td>\n",
       "      <td>-0.037483</td>\n",
       "      <td>...</td>\n",
       "      <td>-0.007541</td>\n",
       "      <td>-0.032129</td>\n",
       "      <td>-0.024271</td>\n",
       "      <td>-0.025165</td>\n",
       "      <td>1.000000</td>\n",
       "      <td>-0.000029</td>\n",
       "      <td>0.034232</td>\n",
       "      <td>0.000449</td>\n",
       "      <td>0.004705</td>\n",
       "      <td>-0.032114</td>\n",
       "    </tr>\n",
       "    <tr>\n",
       "      <th>pay_schedule_monthly</th>\n",
       "      <td>-0.017324</td>\n",
       "      <td>0.141529</td>\n",
       "      <td>0.043587</td>\n",
       "      <td>0.034177</td>\n",
       "      <td>0.011867</td>\n",
       "      <td>-0.088523</td>\n",
       "      <td>0.019609</td>\n",
       "      <td>0.028606</td>\n",
       "      <td>-0.012258</td>\n",
       "      <td>0.038136</td>\n",
       "      <td>...</td>\n",
       "      <td>-0.095406</td>\n",
       "      <td>0.020292</td>\n",
       "      <td>0.026995</td>\n",
       "      <td>0.019685</td>\n",
       "      <td>-0.000029</td>\n",
       "      <td>1.000000</td>\n",
       "      <td>-0.107015</td>\n",
       "      <td>-0.153741</td>\n",
       "      <td>0.040848</td>\n",
       "      <td>0.007894</td>\n",
       "    </tr>\n",
       "    <tr>\n",
       "      <th>pay_schedule_semi-monthly</th>\n",
       "      <td>-0.013031</td>\n",
       "      <td>0.026439</td>\n",
       "      <td>0.004283</td>\n",
       "      <td>0.065759</td>\n",
       "      <td>0.017395</td>\n",
       "      <td>-0.001747</td>\n",
       "      <td>0.066022</td>\n",
       "      <td>0.026159</td>\n",
       "      <td>-0.038701</td>\n",
       "      <td>0.035344</td>\n",
       "      <td>...</td>\n",
       "      <td>-0.034024</td>\n",
       "      <td>-0.008670</td>\n",
       "      <td>-0.006770</td>\n",
       "      <td>0.043679</td>\n",
       "      <td>0.034232</td>\n",
       "      <td>-0.107015</td>\n",
       "      <td>1.000000</td>\n",
       "      <td>-0.181023</td>\n",
       "      <td>0.021856</td>\n",
       "      <td>0.002120</td>\n",
       "    </tr>\n",
       "    <tr>\n",
       "      <th>pay_schedule_weekly</th>\n",
       "      <td>-0.003348</td>\n",
       "      <td>-0.070750</td>\n",
       "      <td>-0.025521</td>\n",
       "      <td>-0.025361</td>\n",
       "      <td>-0.013041</td>\n",
       "      <td>0.022986</td>\n",
       "      <td>-0.015255</td>\n",
       "      <td>-0.038039</td>\n",
       "      <td>0.030194</td>\n",
       "      <td>-0.070332</td>\n",
       "      <td>...</td>\n",
       "      <td>0.213459</td>\n",
       "      <td>0.002341</td>\n",
       "      <td>-0.005494</td>\n",
       "      <td>-0.056795</td>\n",
       "      <td>0.000449</td>\n",
       "      <td>-0.153741</td>\n",
       "      <td>-0.181023</td>\n",
       "      <td>1.000000</td>\n",
       "      <td>-0.037106</td>\n",
       "      <td>0.000501</td>\n",
       "    </tr>\n",
       "    <tr>\n",
       "      <th>months employed</th>\n",
       "      <td>0.000432</td>\n",
       "      <td>0.175693</td>\n",
       "      <td>0.029342</td>\n",
       "      <td>0.099071</td>\n",
       "      <td>0.343346</td>\n",
       "      <td>0.005314</td>\n",
       "      <td>0.081987</td>\n",
       "      <td>0.096245</td>\n",
       "      <td>-0.054721</td>\n",
       "      <td>0.073461</td>\n",
       "      <td>...</td>\n",
       "      <td>-0.001504</td>\n",
       "      <td>0.013537</td>\n",
       "      <td>0.030351</td>\n",
       "      <td>0.009738</td>\n",
       "      <td>0.004705</td>\n",
       "      <td>0.040848</td>\n",
       "      <td>0.021856</td>\n",
       "      <td>-0.037106</td>\n",
       "      <td>1.000000</td>\n",
       "      <td>0.183942</td>\n",
       "    </tr>\n",
       "    <tr>\n",
       "      <th>personnal account months</th>\n",
       "      <td>-0.007839</td>\n",
       "      <td>0.040405</td>\n",
       "      <td>-0.046213</td>\n",
       "      <td>-0.001157</td>\n",
       "      <td>0.119105</td>\n",
       "      <td>-0.007454</td>\n",
       "      <td>0.047924</td>\n",
       "      <td>0.013017</td>\n",
       "      <td>0.025542</td>\n",
       "      <td>0.082662</td>\n",
       "      <td>...</td>\n",
       "      <td>0.039261</td>\n",
       "      <td>0.038625</td>\n",
       "      <td>0.028760</td>\n",
       "      <td>0.001268</td>\n",
       "      <td>-0.032114</td>\n",
       "      <td>0.007894</td>\n",
       "      <td>0.002120</td>\n",
       "      <td>0.000501</td>\n",
       "      <td>0.183942</td>\n",
       "      <td>1.000000</td>\n",
       "    </tr>\n",
       "  </tbody>\n",
       "</table>\n",
       "<p>21 rows × 21 columns</p>\n",
       "</div>"
      ],
      "text/plain": [
       "                           entry_id       age  home_owner    income  \\\n",
       "entry_id                   1.000000  0.004333    0.002528 -0.009034   \n",
       "age                        0.004333  1.000000    0.142046  0.174062   \n",
       "home_owner                 0.002528  0.142046    1.000000  0.147487   \n",
       "income                    -0.009034  0.174062    0.147487  1.000000   \n",
       "current_address_year      -0.001701  0.146554    0.179291  0.046982   \n",
       "has_debt                   0.007476 -0.043808   -0.076206 -0.011199   \n",
       "amount_requested           0.001720  0.084132    0.033996  0.289099   \n",
       "risk_score                 0.006780  0.162868    0.113608  0.168375   \n",
       "risk_score_2               0.013761 -0.019163    0.000647 -0.023627   \n",
       "risk_score_3              -0.005550  0.111258    0.049708  0.058665   \n",
       "risk_score_4               0.006963  0.069191   -0.137293 -0.001254   \n",
       "risk_score_5               0.004949  0.093710   -0.080470  0.025179   \n",
       "ext_quality_score          0.006025  0.032265    0.010080 -0.008429   \n",
       "ext_quality_score_2        0.006392  0.040019    0.005507 -0.003323   \n",
       "inquiries_last_month      -0.003492  0.041224    0.011215  0.051622   \n",
       "e_signed                   0.002735 -0.096998   -0.047409  0.031377   \n",
       "pay_schedule_monthly      -0.017324  0.141529    0.043587  0.034177   \n",
       "pay_schedule_semi-monthly -0.013031  0.026439    0.004283  0.065759   \n",
       "pay_schedule_weekly       -0.003348 -0.070750   -0.025521 -0.025361   \n",
       "months employed            0.000432  0.175693    0.029342  0.099071   \n",
       "personnal account months  -0.007839  0.040405   -0.046213 -0.001157   \n",
       "\n",
       "                           current_address_year  has_debt  amount_requested  \\\n",
       "entry_id                              -0.001701  0.007476          0.001720   \n",
       "age                                    0.146554 -0.043808          0.084132   \n",
       "home_owner                             0.179291 -0.076206          0.033996   \n",
       "income                                 0.046982 -0.011199          0.289099   \n",
       "current_address_year                   1.000000  0.017423          0.067893   \n",
       "has_debt                               0.017423  1.000000         -0.008445   \n",
       "amount_requested                       0.067893 -0.008445          1.000000   \n",
       "risk_score                             0.090535 -0.020332          0.290716   \n",
       "risk_score_2                          -0.060412 -0.034691          0.005405   \n",
       "risk_score_3                           0.058936  0.001108          0.045465   \n",
       "risk_score_4                          -0.161052  0.002074          0.061459   \n",
       "risk_score_5                          -0.094545  0.002341          0.071470   \n",
       "ext_quality_score                      0.003362 -0.021523          0.025167   \n",
       "ext_quality_score_2                    0.009093 -0.009055          0.028052   \n",
       "inquiries_last_month                   0.013659 -0.001007         -0.036197   \n",
       "e_signed                              -0.018969  0.039192          0.069572   \n",
       "pay_schedule_monthly                   0.011867 -0.088523          0.019609   \n",
       "pay_schedule_semi-monthly              0.017395 -0.001747          0.066022   \n",
       "pay_schedule_weekly                   -0.013041  0.022986         -0.015255   \n",
       "months employed                        0.343346  0.005314          0.081987   \n",
       "personnal account months               0.119105 -0.007454          0.047924   \n",
       "\n",
       "                           risk_score  risk_score_2  risk_score_3  ...  \\\n",
       "entry_id                     0.006780      0.013761     -0.005550  ...   \n",
       "age                          0.162868     -0.019163      0.111258  ...   \n",
       "home_owner                   0.113608      0.000647      0.049708  ...   \n",
       "income                       0.168375     -0.023627      0.058665  ...   \n",
       "current_address_year         0.090535     -0.060412      0.058936  ...   \n",
       "has_debt                    -0.020332     -0.034691      0.001108  ...   \n",
       "amount_requested             0.290716      0.005405      0.045465  ...   \n",
       "risk_score                   1.000000      0.208188      0.104861  ...   \n",
       "risk_score_2                 0.208188      1.000000      0.184249  ...   \n",
       "risk_score_3                 0.104861      0.184249      1.000000  ...   \n",
       "risk_score_4                 0.120234      0.225259      0.166067  ...   \n",
       "risk_score_5                 0.130464      0.227510      0.480369  ...   \n",
       "ext_quality_score            0.098649      0.207386      0.256866  ...   \n",
       "ext_quality_score_2          0.108170      0.200195      0.267931  ...   \n",
       "inquiries_last_month        -0.261076     -0.214013     -0.042011  ...   \n",
       "e_signed                     0.086098      0.010473     -0.037483  ...   \n",
       "pay_schedule_monthly         0.028606     -0.012258      0.038136  ...   \n",
       "pay_schedule_semi-monthly    0.026159     -0.038701      0.035344  ...   \n",
       "pay_schedule_weekly         -0.038039      0.030194     -0.070332  ...   \n",
       "months employed              0.096245     -0.054721      0.073461  ...   \n",
       "personnal account months     0.013017      0.025542      0.082662  ...   \n",
       "\n",
       "                           risk_score_5  ext_quality_score  \\\n",
       "entry_id                       0.004949           0.006025   \n",
       "age                            0.093710           0.032265   \n",
       "home_owner                    -0.080470           0.010080   \n",
       "income                         0.025179          -0.008429   \n",
       "current_address_year          -0.094545           0.003362   \n",
       "has_debt                       0.002341          -0.021523   \n",
       "amount_requested               0.071470           0.025167   \n",
       "risk_score                     0.130464           0.098649   \n",
       "risk_score_2                   0.227510           0.207386   \n",
       "risk_score_3                   0.480369           0.256866   \n",
       "risk_score_4                   0.588190           0.243864   \n",
       "risk_score_5                   1.000000           0.284291   \n",
       "ext_quality_score              0.284291           1.000000   \n",
       "ext_quality_score_2            0.279478           0.359777   \n",
       "inquiries_last_month          -0.015720          -0.075221   \n",
       "e_signed                      -0.007541          -0.032129   \n",
       "pay_schedule_monthly          -0.095406           0.020292   \n",
       "pay_schedule_semi-monthly     -0.034024          -0.008670   \n",
       "pay_schedule_weekly            0.213459           0.002341   \n",
       "months employed               -0.001504           0.013537   \n",
       "personnal account months       0.039261           0.038625   \n",
       "\n",
       "                           ext_quality_score_2  inquiries_last_month  \\\n",
       "entry_id                              0.006392             -0.003492   \n",
       "age                                   0.040019              0.041224   \n",
       "home_owner                            0.005507              0.011215   \n",
       "income                               -0.003323              0.051622   \n",
       "current_address_year                  0.009093              0.013659   \n",
       "has_debt                             -0.009055             -0.001007   \n",
       "amount_requested                      0.028052             -0.036197   \n",
       "risk_score                            0.108170             -0.261076   \n",
       "risk_score_2                          0.200195             -0.214013   \n",
       "risk_score_3                          0.267931             -0.042011   \n",
       "risk_score_4                          0.237969             -0.033654   \n",
       "risk_score_5                          0.279478             -0.015720   \n",
       "ext_quality_score                     0.359777             -0.075221   \n",
       "ext_quality_score_2                   1.000000             -0.081526   \n",
       "inquiries_last_month                 -0.081526              1.000000   \n",
       "e_signed                             -0.024271             -0.025165   \n",
       "pay_schedule_monthly                  0.026995              0.019685   \n",
       "pay_schedule_semi-monthly            -0.006770              0.043679   \n",
       "pay_schedule_weekly                  -0.005494             -0.056795   \n",
       "months employed                       0.030351              0.009738   \n",
       "personnal account months              0.028760              0.001268   \n",
       "\n",
       "                           e_signed  pay_schedule_monthly  \\\n",
       "entry_id                   0.002735             -0.017324   \n",
       "age                       -0.096998              0.141529   \n",
       "home_owner                -0.047409              0.043587   \n",
       "income                     0.031377              0.034177   \n",
       "current_address_year      -0.018969              0.011867   \n",
       "has_debt                   0.039192             -0.088523   \n",
       "amount_requested           0.069572              0.019609   \n",
       "risk_score                 0.086098              0.028606   \n",
       "risk_score_2               0.010473             -0.012258   \n",
       "risk_score_3              -0.037483              0.038136   \n",
       "risk_score_4               0.006147             -0.165436   \n",
       "risk_score_5              -0.007541             -0.095406   \n",
       "ext_quality_score         -0.032129              0.020292   \n",
       "ext_quality_score_2       -0.024271              0.026995   \n",
       "inquiries_last_month      -0.025165              0.019685   \n",
       "e_signed                   1.000000             -0.000029   \n",
       "pay_schedule_monthly      -0.000029              1.000000   \n",
       "pay_schedule_semi-monthly  0.034232             -0.107015   \n",
       "pay_schedule_weekly        0.000449             -0.153741   \n",
       "months employed            0.004705              0.040848   \n",
       "personnal account months  -0.032114              0.007894   \n",
       "\n",
       "                           pay_schedule_semi-monthly  pay_schedule_weekly  \\\n",
       "entry_id                                   -0.013031            -0.003348   \n",
       "age                                         0.026439            -0.070750   \n",
       "home_owner                                  0.004283            -0.025521   \n",
       "income                                      0.065759            -0.025361   \n",
       "current_address_year                        0.017395            -0.013041   \n",
       "has_debt                                   -0.001747             0.022986   \n",
       "amount_requested                            0.066022            -0.015255   \n",
       "risk_score                                  0.026159            -0.038039   \n",
       "risk_score_2                               -0.038701             0.030194   \n",
       "risk_score_3                                0.035344            -0.070332   \n",
       "risk_score_4                               -0.079879             0.312952   \n",
       "risk_score_5                               -0.034024             0.213459   \n",
       "ext_quality_score                          -0.008670             0.002341   \n",
       "ext_quality_score_2                        -0.006770            -0.005494   \n",
       "inquiries_last_month                        0.043679            -0.056795   \n",
       "e_signed                                    0.034232             0.000449   \n",
       "pay_schedule_monthly                       -0.107015            -0.153741   \n",
       "pay_schedule_semi-monthly                   1.000000            -0.181023   \n",
       "pay_schedule_weekly                        -0.181023             1.000000   \n",
       "months employed                             0.021856            -0.037106   \n",
       "personnal account months                    0.002120             0.000501   \n",
       "\n",
       "                           months employed  personnal account months  \n",
       "entry_id                          0.000432                 -0.007839  \n",
       "age                               0.175693                  0.040405  \n",
       "home_owner                        0.029342                 -0.046213  \n",
       "income                            0.099071                 -0.001157  \n",
       "current_address_year              0.343346                  0.119105  \n",
       "has_debt                          0.005314                 -0.007454  \n",
       "amount_requested                  0.081987                  0.047924  \n",
       "risk_score                        0.096245                  0.013017  \n",
       "risk_score_2                     -0.054721                  0.025542  \n",
       "risk_score_3                      0.073461                  0.082662  \n",
       "risk_score_4                     -0.031087                  0.007208  \n",
       "risk_score_5                     -0.001504                  0.039261  \n",
       "ext_quality_score                 0.013537                  0.038625  \n",
       "ext_quality_score_2               0.030351                  0.028760  \n",
       "inquiries_last_month              0.009738                  0.001268  \n",
       "e_signed                          0.004705                 -0.032114  \n",
       "pay_schedule_monthly              0.040848                  0.007894  \n",
       "pay_schedule_semi-monthly         0.021856                  0.002120  \n",
       "pay_schedule_weekly              -0.037106                  0.000501  \n",
       "months employed                   1.000000                  0.183942  \n",
       "personnal account months          0.183942                  1.000000  \n",
       "\n",
       "[21 rows x 21 columns]"
      ]
     },
     "execution_count": 47,
     "metadata": {},
     "output_type": "execute_result"
    }
   ],
   "source": [
    "df.corr()"
   ]
  },
  {
   "cell_type": "markdown",
   "id": "15d793f1",
   "metadata": {},
   "source": [
    "### Splitting the dataset"
   ]
  },
  {
   "cell_type": "code",
   "execution_count": 50,
   "id": "c0931ce5",
   "metadata": {},
   "outputs": [],
   "source": [
    "x = df.drop(columns=['entry_id', 'e_signed']).values"
   ]
  },
  {
   "cell_type": "code",
   "execution_count": 51,
   "id": "4b1c7610",
   "metadata": {},
   "outputs": [],
   "source": [
    "y=df[\"e_signed\"].values"
   ]
  },
  {
   "cell_type": "code",
   "execution_count": 52,
   "id": "71e20f5f",
   "metadata": {},
   "outputs": [],
   "source": [
    "from sklearn.model_selection import train_test_split\n",
    "x_train, x_test, y_train, y_test = train_test_split(x, y, test_size=0.2, random_state=0)"
   ]
  },
  {
   "cell_type": "code",
   "execution_count": 53,
   "id": "f9dda171",
   "metadata": {},
   "outputs": [
    {
     "data": {
      "text/plain": [
       "(14326, 19)"
      ]
     },
     "execution_count": 53,
     "metadata": {},
     "output_type": "execute_result"
    }
   ],
   "source": [
    "x_train.shape"
   ]
  },
  {
   "cell_type": "code",
   "execution_count": 54,
   "id": "a2545c6a",
   "metadata": {},
   "outputs": [
    {
     "data": {
      "text/plain": [
       "(14326,)"
      ]
     },
     "execution_count": 54,
     "metadata": {},
     "output_type": "execute_result"
    }
   ],
   "source": [
    "y_train.shape"
   ]
  },
  {
   "cell_type": "code",
   "execution_count": 55,
   "id": "d62bdfbc",
   "metadata": {},
   "outputs": [
    {
     "data": {
      "text/plain": [
       "(3582, 19)"
      ]
     },
     "execution_count": 55,
     "metadata": {},
     "output_type": "execute_result"
    }
   ],
   "source": [
    "x_test.shape"
   ]
  },
  {
   "cell_type": "code",
   "execution_count": 56,
   "id": "5a7e6617",
   "metadata": {},
   "outputs": [
    {
     "data": {
      "text/plain": [
       "(3582,)"
      ]
     },
     "execution_count": 56,
     "metadata": {},
     "output_type": "execute_result"
    }
   ],
   "source": [
    "y_test.shape"
   ]
  },
  {
   "cell_type": "markdown",
   "id": "ef1af99a",
   "metadata": {},
   "source": [
    "### Feature scaling"
   ]
  },
  {
   "cell_type": "code",
   "execution_count": 57,
   "id": "87653204",
   "metadata": {},
   "outputs": [],
   "source": [
    "from sklearn.preprocessing import StandardScaler\n",
    "sc = StandardScaler()\n",
    "x_train = sc.fit_transform(x_train)\n",
    "x_test = sc.transform(x_test)"
   ]
  },
  {
   "cell_type": "code",
   "execution_count": 58,
   "id": "13707ea4",
   "metadata": {},
   "outputs": [
    {
     "data": {
      "text/plain": [
       "array([[-0.00599126, -0.85634884, -0.24235846, ...,  1.97682704,\n",
       "        -1.4077639 ,  0.36896493],\n",
       "       [-0.50989022, -0.85634884, -0.05259224, ..., -0.50586115,\n",
       "         0.35212263, -0.28090617],\n",
       "       [-0.7618397 ,  1.16774842, -0.41214928, ..., -0.50586115,\n",
       "        -1.18309754,  0.19566597],\n",
       "       ...,\n",
       "       [ 0.16197506, -0.85634884, -0.46541699, ..., -0.50586115,\n",
       "        -0.65887602, -1.45067413],\n",
       "       [ 1.08578982, -0.85634884, -0.69846323, ..., -0.50586115,\n",
       "         2.41156432,  3.83494409],\n",
       "       [-0.7618397 , -0.85634884, -0.36554004, ..., -0.50586115,\n",
       "         0.35212263, -1.27737518]])"
      ]
     },
     "execution_count": 58,
     "metadata": {},
     "output_type": "execute_result"
    }
   ],
   "source": [
    "x_train"
   ]
  },
  {
   "cell_type": "code",
   "execution_count": 60,
   "id": "7180dd18",
   "metadata": {},
   "outputs": [
    {
     "data": {
      "text/plain": [
       "array([[-1.01378918, -0.85634884, -0.24235846, ..., -0.50586115,\n",
       "        -1.18309754, -0.32423091],\n",
       "       [-1.01378918, -0.85634884, -0.33557695, ..., -0.50586115,\n",
       "        -0.28443207,  0.19566597],\n",
       "       [ 0.24595822, -0.85634884, -0.59858627, ..., -0.50586115,\n",
       "         2.86089705, -0.84412778],\n",
       "       ...,\n",
       "       [-0.08997442, -0.85634884, -0.41214928, ..., -0.50586115,\n",
       "         1.06356612,  0.36896493],\n",
       "       [-0.25794074, -0.85634884, -0.25567539, ..., -0.50586115,\n",
       "         0.61423339,  0.19566597],\n",
       "       [-0.08997442, -0.85634884, -0.72176785, ...,  1.97682704,\n",
       "        -0.28443207,  1.75535659]])"
      ]
     },
     "execution_count": 60,
     "metadata": {},
     "output_type": "execute_result"
    }
   ],
   "source": [
    "x_test"
   ]
  },
  {
   "cell_type": "markdown",
   "id": "4e48c8b5",
   "metadata": {},
   "source": [
    "#### Building the model "
   ]
  },
  {
   "cell_type": "markdown",
   "id": "40683d27",
   "metadata": {},
   "source": [
    "#####  Logistic regression "
   ]
  },
  {
   "cell_type": "code",
   "execution_count": 61,
   "id": "74880836",
   "metadata": {},
   "outputs": [],
   "source": [
    "from sklearn.linear_model import LogisticRegression"
   ]
  },
  {
   "cell_type": "code",
   "execution_count": 62,
   "id": "d9487d85",
   "metadata": {},
   "outputs": [],
   "source": [
    "clf=LogisticRegression()"
   ]
  },
  {
   "cell_type": "code",
   "execution_count": 63,
   "id": "204bb1c2",
   "metadata": {},
   "outputs": [
    {
     "data": {
      "text/plain": [
       "LogisticRegression()"
      ]
     },
     "execution_count": 63,
     "metadata": {},
     "output_type": "execute_result"
    }
   ],
   "source": [
    "clf.fit(x_train,y_train)"
   ]
  },
  {
   "cell_type": "code",
   "execution_count": 64,
   "id": "1c24504b",
   "metadata": {},
   "outputs": [],
   "source": [
    "y_pred = clf.predict(x_test)"
   ]
  },
  {
   "cell_type": "code",
   "execution_count": 65,
   "id": "929cf74b",
   "metadata": {},
   "outputs": [],
   "source": [
    "from sklearn.metrics import confusion_matrix,accuracy_score"
   ]
  },
  {
   "cell_type": "code",
   "execution_count": 66,
   "id": "be8180e8",
   "metadata": {},
   "outputs": [
    {
     "data": {
      "text/plain": [
       "0.5628140703517588"
      ]
     },
     "execution_count": 66,
     "metadata": {},
     "output_type": "execute_result"
    }
   ],
   "source": [
    "accuracy_score(y_test, y_pred)"
   ]
  },
  {
   "cell_type": "code",
   "execution_count": 67,
   "id": "51857e5c",
   "metadata": {},
   "outputs": [
    {
     "data": {
      "text/plain": [
       "array([[ 654, 1000],\n",
       "       [ 566, 1362]], dtype=int64)"
      ]
     },
     "execution_count": 67,
     "metadata": {},
     "output_type": "execute_result"
    }
   ],
   "source": [
    "confusion_matrix(y_test, y_pred)"
   ]
  },
  {
   "cell_type": "markdown",
   "id": "a392c86e",
   "metadata": {},
   "source": [
    "#### SVM"
   ]
  },
  {
   "cell_type": "code",
   "execution_count": 68,
   "id": "7fdf3b08",
   "metadata": {},
   "outputs": [],
   "source": [
    "from sklearn.svm import SVC"
   ]
  },
  {
   "cell_type": "code",
   "execution_count": 69,
   "id": "5b0f9e85",
   "metadata": {},
   "outputs": [],
   "source": [
    "svc=SVC(random_state=0)"
   ]
  },
  {
   "cell_type": "code",
   "execution_count": 70,
   "id": "74846084",
   "metadata": {},
   "outputs": [
    {
     "data": {
      "text/plain": [
       "SVC(random_state=0)"
      ]
     },
     "execution_count": 70,
     "metadata": {},
     "output_type": "execute_result"
    }
   ],
   "source": [
    "svc.fit(x_train,y_train)"
   ]
  },
  {
   "cell_type": "code",
   "execution_count": 72,
   "id": "289c20a6",
   "metadata": {},
   "outputs": [],
   "source": [
    "y_pred = svc.predict(x_test)"
   ]
  },
  {
   "cell_type": "code",
   "execution_count": 73,
   "id": "cc5704cd",
   "metadata": {},
   "outputs": [
    {
     "data": {
      "text/plain": [
       "0.5946398659966499"
      ]
     },
     "execution_count": 73,
     "metadata": {},
     "output_type": "execute_result"
    }
   ],
   "source": [
    "from sklearn.metrics import confusion_matrix, accuracy_score\n",
    "accuracy_score(y_test, y_pred)"
   ]
  },
  {
   "cell_type": "code",
   "execution_count": 74,
   "id": "cf27a31d",
   "metadata": {},
   "outputs": [
    {
     "data": {
      "text/plain": [
       "array([[ 797,  857],\n",
       "       [ 595, 1333]], dtype=int64)"
      ]
     },
     "execution_count": 74,
     "metadata": {},
     "output_type": "execute_result"
    }
   ],
   "source": [
    "confusion_matrix(y_test, y_pred)"
   ]
  },
  {
   "cell_type": "markdown",
   "id": "3932fc52",
   "metadata": {},
   "source": [
    "#### Random forest"
   ]
  },
  {
   "cell_type": "code",
   "execution_count": 75,
   "id": "393f01b6",
   "metadata": {},
   "outputs": [
    {
     "data": {
      "text/plain": [
       "RandomForestClassifier(random_state=0)"
      ]
     },
     "execution_count": 75,
     "metadata": {},
     "output_type": "execute_result"
    }
   ],
   "source": [
    "from sklearn.ensemble import RandomForestClassifier\n",
    "rfc = RandomForestClassifier(random_state=0)\n",
    "rfc.fit(x_train, y_train)"
   ]
  },
  {
   "cell_type": "code",
   "execution_count": 76,
   "id": "52339c68",
   "metadata": {},
   "outputs": [],
   "source": [
    "y_pred = rfc.predict(x_test)"
   ]
  },
  {
   "cell_type": "code",
   "execution_count": 77,
   "id": "03192450",
   "metadata": {},
   "outputs": [
    {
     "data": {
      "text/plain": [
       "0.6323283082077052"
      ]
     },
     "execution_count": 77,
     "metadata": {},
     "output_type": "execute_result"
    }
   ],
   "source": [
    "from sklearn.metrics import confusion_matrix, accuracy_score\n",
    "accuracy_score(y_test, y_pred)"
   ]
  },
  {
   "cell_type": "code",
   "execution_count": 78,
   "id": "156b3e7d",
   "metadata": {},
   "outputs": [
    {
     "data": {
      "text/plain": [
       "array([[ 959,  695],\n",
       "       [ 622, 1306]], dtype=int64)"
      ]
     },
     "execution_count": 78,
     "metadata": {},
     "output_type": "execute_result"
    }
   ],
   "source": [
    "confusion_matrix(y_test, y_pred)"
   ]
  },
  {
   "cell_type": "markdown",
   "id": "350e5525",
   "metadata": {},
   "source": [
    "#### XGBoost Classifier "
   ]
  },
  {
   "cell_type": "code",
   "execution_count": 79,
   "id": "58f008c4",
   "metadata": {},
   "outputs": [],
   "source": [
    "from xgboost import XGBClassifier"
   ]
  },
  {
   "cell_type": "code",
   "execution_count": 80,
   "id": "b8106829",
   "metadata": {},
   "outputs": [],
   "source": [
    "xgb=XGBClassifier(random_state=0)"
   ]
  },
  {
   "cell_type": "code",
   "execution_count": 81,
   "id": "76126dda",
   "metadata": {},
   "outputs": [
    {
     "data": {
      "text/plain": [
       "XGBClassifier(base_score=0.5, booster='gbtree', callbacks=None,\n",
       "              colsample_bylevel=1, colsample_bynode=1, colsample_bytree=1,\n",
       "              early_stopping_rounds=None, enable_categorical=False,\n",
       "              eval_metric=None, gamma=0, gpu_id=-1, grow_policy='depthwise',\n",
       "              importance_type=None, interaction_constraints='',\n",
       "              learning_rate=0.300000012, max_bin=256, max_cat_to_onehot=4,\n",
       "              max_delta_step=0, max_depth=6, max_leaves=0, min_child_weight=1,\n",
       "              missing=nan, monotone_constraints='()', n_estimators=100,\n",
       "              n_jobs=0, num_parallel_tree=1, predictor='auto', random_state=0,\n",
       "              reg_alpha=0, reg_lambda=1, ...)"
      ]
     },
     "execution_count": 81,
     "metadata": {},
     "output_type": "execute_result"
    }
   ],
   "source": [
    "xgb.fit(x_train,y_train)"
   ]
  },
  {
   "cell_type": "code",
   "execution_count": 82,
   "id": "526f6290",
   "metadata": {},
   "outputs": [],
   "source": [
    "y_pred=xgb.predict(x_test)"
   ]
  },
  {
   "cell_type": "code",
   "execution_count": 83,
   "id": "1db65245",
   "metadata": {},
   "outputs": [
    {
     "data": {
      "text/plain": [
       "0.628140703517588"
      ]
     },
     "execution_count": 83,
     "metadata": {},
     "output_type": "execute_result"
    }
   ],
   "source": [
    "from sklearn.metrics import confusion_matrix, accuracy_score\n",
    "accuracy_score(y_test, y_pred)"
   ]
  },
  {
   "cell_type": "code",
   "execution_count": 84,
   "id": "223b9084",
   "metadata": {},
   "outputs": [
    {
     "data": {
      "text/plain": [
       "array([[ 948,  706],\n",
       "       [ 626, 1302]], dtype=int64)"
      ]
     },
     "execution_count": 84,
     "metadata": {},
     "output_type": "execute_result"
    }
   ],
   "source": [
    "confusion_matrix(y_test, y_pred)"
   ]
  },
  {
   "cell_type": "code",
   "execution_count": null,
   "id": "c7e01433",
   "metadata": {},
   "outputs": [],
   "source": [
    "#best classifier is xgboost"
   ]
  },
  {
   "cell_type": "markdown",
   "id": "a0355245",
   "metadata": {},
   "source": [
    "### Hyper tuning to find best params "
   ]
  },
  {
   "cell_type": "code",
   "execution_count": 85,
   "id": "9c3acf78",
   "metadata": {},
   "outputs": [],
   "source": [
    "from sklearn.model_selection import RandomizedSearchCV"
   ]
  },
  {
   "cell_type": "code",
   "execution_count": 86,
   "id": "f8dbf92e",
   "metadata": {},
   "outputs": [],
   "source": [
    "params={\n",
    "   'learning_rate':[0.05, 0.10, 0.15, 0.20, 0.25, 0.30],\n",
    "    'max_depth':[3, 4, 5, 6, 8, 10, 12, 15],\n",
    "    'min_child_weight':[1, 3, 5, 7],\n",
    "    'gamma':[0.00, 0.1, 0.2, 0.3, 0.4],\n",
    "    'colsample_bytree':[0.3, 0.4, 0.5, 0.7],\n",
    "    'n_estimators':[100, 200, 500],\n",
    "    'subsample':[0.5, 0.7, 1.0] \n",
    "}"
   ]
  },
  {
   "cell_type": "code",
   "execution_count": 87,
   "id": "6c13f097",
   "metadata": {},
   "outputs": [],
   "source": [
    "rsc=RandomizedSearchCV(xgb,param_distributions=params,cv=10,scoring=\"roc_auc\",n_iter=5)"
   ]
  },
  {
   "cell_type": "code",
   "execution_count": 89,
   "id": "a0df4766",
   "metadata": {
    "scrolled": true
   },
   "outputs": [
    {
     "data": {
      "text/plain": [
       "RandomizedSearchCV(cv=10,\n",
       "                   estimator=XGBClassifier(base_score=0.5, booster='gbtree',\n",
       "                                           callbacks=None, colsample_bylevel=1,\n",
       "                                           colsample_bynode=1,\n",
       "                                           colsample_bytree=1,\n",
       "                                           early_stopping_rounds=None,\n",
       "                                           enable_categorical=False,\n",
       "                                           eval_metric=None, gamma=0, gpu_id=-1,\n",
       "                                           grow_policy='depthwise',\n",
       "                                           importance_type=None,\n",
       "                                           interaction_constraints='',\n",
       "                                           learning_rate=0.300000012,\n",
       "                                           max_bin=256...\n",
       "                                           num_parallel_tree=1,\n",
       "                                           predictor='auto', random_state=0,\n",
       "                                           reg_alpha=0, reg_lambda=1, ...),\n",
       "                   n_iter=5,\n",
       "                   param_distributions={'colsample_bytree': [0.3, 0.4, 0.5,\n",
       "                                                             0.7],\n",
       "                                        'gamma': [0.0, 0.1, 0.2, 0.3, 0.4],\n",
       "                                        'learning_rate': [0.05, 0.1, 0.15, 0.2,\n",
       "                                                          0.25, 0.3],\n",
       "                                        'max_depth': [3, 4, 5, 6, 8, 10, 12,\n",
       "                                                      15],\n",
       "                                        'min_child_weight': [1, 3, 5, 7],\n",
       "                                        'n_estimators': [100, 200, 500],\n",
       "                                        'subsample': [0.5, 0.7, 1.0]},\n",
       "                   scoring='roc_auc')"
      ]
     },
     "execution_count": 89,
     "metadata": {},
     "output_type": "execute_result"
    }
   ],
   "source": [
    "rsc.fit(x_train,y_train)"
   ]
  },
  {
   "cell_type": "code",
   "execution_count": 93,
   "id": "5994b2a1",
   "metadata": {},
   "outputs": [
    {
     "data": {
      "text/plain": [
       "XGBClassifier(base_score=0.5, booster='gbtree', callbacks=None,\n",
       "              colsample_bylevel=1, colsample_bynode=1, colsample_bytree=0.7,\n",
       "              early_stopping_rounds=None, enable_categorical=False,\n",
       "              eval_metric=None, gamma=0.2, gpu_id=-1, grow_policy='depthwise',\n",
       "              importance_type=None, interaction_constraints='',\n",
       "              learning_rate=0.05, max_bin=256, max_cat_to_onehot=4,\n",
       "              max_delta_step=0, max_depth=5, max_leaves=0, min_child_weight=3,\n",
       "              missing=nan, monotone_constraints='()', n_estimators=200,\n",
       "              n_jobs=0, num_parallel_tree=1, predictor='auto', random_state=0,\n",
       "              reg_alpha=0, reg_lambda=1, ...)"
      ]
     },
     "execution_count": 93,
     "metadata": {},
     "output_type": "execute_result"
    }
   ],
   "source": [
    "rsc.best_estimator_"
   ]
  },
  {
   "cell_type": "code",
   "execution_count": 94,
   "id": "d0859635",
   "metadata": {},
   "outputs": [
    {
     "data": {
      "text/plain": [
       "{'subsample': 1.0,\n",
       " 'n_estimators': 200,\n",
       " 'min_child_weight': 3,\n",
       " 'max_depth': 5,\n",
       " 'learning_rate': 0.05,\n",
       " 'gamma': 0.2,\n",
       " 'colsample_bytree': 0.7}"
      ]
     },
     "execution_count": 94,
     "metadata": {},
     "output_type": "execute_result"
    }
   ],
   "source": [
    "rsc.best_params_"
   ]
  },
  {
   "cell_type": "code",
   "execution_count": 95,
   "id": "f3600d1e",
   "metadata": {},
   "outputs": [
    {
     "data": {
      "text/plain": [
       "0.7010744846980341"
      ]
     },
     "execution_count": 95,
     "metadata": {},
     "output_type": "execute_result"
    }
   ],
   "source": [
    "rsc.best_score_"
   ]
  },
  {
   "cell_type": "markdown",
   "id": "0ef40b27",
   "metadata": {},
   "source": [
    "#### Final model (XGBoost Classifier)"
   ]
  },
  {
   "cell_type": "code",
   "execution_count": 96,
   "id": "0640bd2e",
   "metadata": {},
   "outputs": [],
   "source": [
    "from xgboost import XGBClassifier"
   ]
  },
  {
   "cell_type": "code",
   "execution_count": 103,
   "id": "0c6026e2",
   "metadata": {},
   "outputs": [
    {
     "data": {
      "text/plain": [
       "XGBClassifier(base_score=0.5, booster='gbtree', callbacks=None,\n",
       "              colsample_bylevel=1, colsample_bynode=1, colsample_bytree=0.7,\n",
       "              early_stopping_rounds=None, enable_categorical=False,\n",
       "              eval_metric=None, gamma=0.2, gpu_id=-1, grow_policy='depthwise',\n",
       "              importance_type=None, interaction_constraints='',\n",
       "              learning_rate=0.05, max_bin=256, max_cat_to_onehot=4,\n",
       "              max_delta_step=0, max_depth=5, max_leaves=0, min_child_weight=3,\n",
       "              missing=nan, monotone_constraints='()', n_estimators=200,\n",
       "              n_jobs=0, num_parallel_tree=1, predictor='auto', random_state=0,\n",
       "              reg_alpha=0, reg_lambda=1, ...)"
      ]
     },
     "execution_count": 103,
     "metadata": {},
     "output_type": "execute_result"
    }
   ],
   "source": [
    "import warnings \n",
    "warnings.filterwarnings(\"ignore\")\n",
    "classifier = XGBClassifier(subsample= 1.0,n_estimators= 200,min_child_weight= 3,max_depth= 5,learning_rate= 0.05,gamma= 0.2,colsample_bytree= 0.7)\n",
    "classifier.fit(x_train, y_train)"
   ]
  },
  {
   "cell_type": "code",
   "execution_count": 104,
   "id": "18e02832",
   "metadata": {},
   "outputs": [],
   "source": [
    "y_pred = classifier.predict(x_test)"
   ]
  },
  {
   "cell_type": "code",
   "execution_count": 105,
   "id": "4a8ee3ec",
   "metadata": {},
   "outputs": [
    {
     "data": {
      "text/plain": [
       "0.6353992183137912"
      ]
     },
     "execution_count": 105,
     "metadata": {},
     "output_type": "execute_result"
    }
   ],
   "source": [
    "from sklearn.metrics import confusion_matrix, accuracy_score\n",
    "accuracy_score(y_test, y_pred)"
   ]
  },
  {
   "cell_type": "code",
   "execution_count": 106,
   "id": "da78adfd",
   "metadata": {},
   "outputs": [
    {
     "data": {
      "text/plain": [
       "array([[ 933,  721],\n",
       "       [ 585, 1343]], dtype=int64)"
      ]
     },
     "execution_count": 106,
     "metadata": {},
     "output_type": "execute_result"
    }
   ],
   "source": [
    "confusion_matrix(y_test, y_pred)"
   ]
  },
  {
   "cell_type": "markdown",
   "id": "1b601fc0",
   "metadata": {},
   "source": [
    "##### Predicting a single observation "
   ]
  },
  {
   "cell_type": "code",
   "execution_count": 107,
   "id": "bb9e31d5",
   "metadata": {},
   "outputs": [
    {
     "data": {
      "text/html": [
       "<div>\n",
       "<style scoped>\n",
       "    .dataframe tbody tr th:only-of-type {\n",
       "        vertical-align: middle;\n",
       "    }\n",
       "\n",
       "    .dataframe tbody tr th {\n",
       "        vertical-align: top;\n",
       "    }\n",
       "\n",
       "    .dataframe thead th {\n",
       "        text-align: right;\n",
       "    }\n",
       "</style>\n",
       "<table border=\"1\" class=\"dataframe\">\n",
       "  <thead>\n",
       "    <tr style=\"text-align: right;\">\n",
       "      <th></th>\n",
       "      <th>entry_id</th>\n",
       "      <th>age</th>\n",
       "      <th>home_owner</th>\n",
       "      <th>income</th>\n",
       "      <th>current_address_year</th>\n",
       "      <th>has_debt</th>\n",
       "      <th>amount_requested</th>\n",
       "      <th>risk_score</th>\n",
       "      <th>risk_score_2</th>\n",
       "      <th>risk_score_3</th>\n",
       "      <th>...</th>\n",
       "      <th>risk_score_5</th>\n",
       "      <th>ext_quality_score</th>\n",
       "      <th>ext_quality_score_2</th>\n",
       "      <th>inquiries_last_month</th>\n",
       "      <th>e_signed</th>\n",
       "      <th>pay_schedule_monthly</th>\n",
       "      <th>pay_schedule_semi-monthly</th>\n",
       "      <th>pay_schedule_weekly</th>\n",
       "      <th>months employed</th>\n",
       "      <th>personnal account months</th>\n",
       "    </tr>\n",
       "  </thead>\n",
       "  <tbody>\n",
       "    <tr>\n",
       "      <th>0</th>\n",
       "      <td>7629673</td>\n",
       "      <td>40</td>\n",
       "      <td>1</td>\n",
       "      <td>3135</td>\n",
       "      <td>3</td>\n",
       "      <td>1</td>\n",
       "      <td>550</td>\n",
       "      <td>36200</td>\n",
       "      <td>0.737398</td>\n",
       "      <td>0.903517</td>\n",
       "      <td>...</td>\n",
       "      <td>0.515977</td>\n",
       "      <td>0.580918</td>\n",
       "      <td>0.380918</td>\n",
       "      <td>10</td>\n",
       "      <td>1</td>\n",
       "      <td>0</td>\n",
       "      <td>0</td>\n",
       "      <td>0</td>\n",
       "      <td>36</td>\n",
       "      <td>30</td>\n",
       "    </tr>\n",
       "    <tr>\n",
       "      <th>1</th>\n",
       "      <td>3560428</td>\n",
       "      <td>61</td>\n",
       "      <td>0</td>\n",
       "      <td>3180</td>\n",
       "      <td>3</td>\n",
       "      <td>1</td>\n",
       "      <td>600</td>\n",
       "      <td>30150</td>\n",
       "      <td>0.738510</td>\n",
       "      <td>0.881027</td>\n",
       "      <td>...</td>\n",
       "      <td>0.826402</td>\n",
       "      <td>0.730720</td>\n",
       "      <td>0.630720</td>\n",
       "      <td>9</td>\n",
       "      <td>0</td>\n",
       "      <td>0</td>\n",
       "      <td>0</td>\n",
       "      <td>1</td>\n",
       "      <td>72</td>\n",
       "      <td>86</td>\n",
       "    </tr>\n",
       "    <tr>\n",
       "      <th>2</th>\n",
       "      <td>6934997</td>\n",
       "      <td>23</td>\n",
       "      <td>0</td>\n",
       "      <td>1540</td>\n",
       "      <td>0</td>\n",
       "      <td>1</td>\n",
       "      <td>450</td>\n",
       "      <td>34550</td>\n",
       "      <td>0.642993</td>\n",
       "      <td>0.766554</td>\n",
       "      <td>...</td>\n",
       "      <td>0.762284</td>\n",
       "      <td>0.531712</td>\n",
       "      <td>0.531712</td>\n",
       "      <td>7</td>\n",
       "      <td>0</td>\n",
       "      <td>0</td>\n",
       "      <td>0</td>\n",
       "      <td>1</td>\n",
       "      <td>6</td>\n",
       "      <td>19</td>\n",
       "    </tr>\n",
       "    <tr>\n",
       "      <th>3</th>\n",
       "      <td>5682812</td>\n",
       "      <td>40</td>\n",
       "      <td>0</td>\n",
       "      <td>5230</td>\n",
       "      <td>1</td>\n",
       "      <td>1</td>\n",
       "      <td>700</td>\n",
       "      <td>42150</td>\n",
       "      <td>0.665224</td>\n",
       "      <td>0.960832</td>\n",
       "      <td>...</td>\n",
       "      <td>0.778831</td>\n",
       "      <td>0.792552</td>\n",
       "      <td>0.592552</td>\n",
       "      <td>8</td>\n",
       "      <td>1</td>\n",
       "      <td>0</td>\n",
       "      <td>0</td>\n",
       "      <td>0</td>\n",
       "      <td>72</td>\n",
       "      <td>86</td>\n",
       "    </tr>\n",
       "    <tr>\n",
       "      <th>4</th>\n",
       "      <td>5335819</td>\n",
       "      <td>33</td>\n",
       "      <td>0</td>\n",
       "      <td>3590</td>\n",
       "      <td>2</td>\n",
       "      <td>1</td>\n",
       "      <td>1100</td>\n",
       "      <td>53850</td>\n",
       "      <td>0.617361</td>\n",
       "      <td>0.857560</td>\n",
       "      <td>...</td>\n",
       "      <td>0.665523</td>\n",
       "      <td>0.744634</td>\n",
       "      <td>0.744634</td>\n",
       "      <td>12</td>\n",
       "      <td>0</td>\n",
       "      <td>0</td>\n",
       "      <td>1</td>\n",
       "      <td>0</td>\n",
       "      <td>60</td>\n",
       "      <td>98</td>\n",
       "    </tr>\n",
       "  </tbody>\n",
       "</table>\n",
       "<p>5 rows × 21 columns</p>\n",
       "</div>"
      ],
      "text/plain": [
       "   entry_id  age  home_owner  income  current_address_year  has_debt  \\\n",
       "0   7629673   40           1    3135                     3         1   \n",
       "1   3560428   61           0    3180                     3         1   \n",
       "2   6934997   23           0    1540                     0         1   \n",
       "3   5682812   40           0    5230                     1         1   \n",
       "4   5335819   33           0    3590                     2         1   \n",
       "\n",
       "   amount_requested  risk_score  risk_score_2  risk_score_3  ...  \\\n",
       "0               550       36200      0.737398      0.903517  ...   \n",
       "1               600       30150      0.738510      0.881027  ...   \n",
       "2               450       34550      0.642993      0.766554  ...   \n",
       "3               700       42150      0.665224      0.960832  ...   \n",
       "4              1100       53850      0.617361      0.857560  ...   \n",
       "\n",
       "   risk_score_5  ext_quality_score  ext_quality_score_2  inquiries_last_month  \\\n",
       "0      0.515977           0.580918             0.380918                    10   \n",
       "1      0.826402           0.730720             0.630720                     9   \n",
       "2      0.762284           0.531712             0.531712                     7   \n",
       "3      0.778831           0.792552             0.592552                     8   \n",
       "4      0.665523           0.744634             0.744634                    12   \n",
       "\n",
       "   e_signed  pay_schedule_monthly  pay_schedule_semi-monthly  \\\n",
       "0         1                     0                          0   \n",
       "1         0                     0                          0   \n",
       "2         0                     0                          0   \n",
       "3         1                     0                          0   \n",
       "4         0                     0                          1   \n",
       "\n",
       "   pay_schedule_weekly  months employed  personnal account months  \n",
       "0                    0               36                        30  \n",
       "1                    1               72                        86  \n",
       "2                    1                6                        19  \n",
       "3                    0               72                        86  \n",
       "4                    0               60                        98  \n",
       "\n",
       "[5 rows x 21 columns]"
      ]
     },
     "execution_count": 107,
     "metadata": {},
     "output_type": "execute_result"
    }
   ],
   "source": [
    "df.head()"
   ]
  },
  {
   "cell_type": "code",
   "execution_count": 108,
   "id": "cd1a7291",
   "metadata": {},
   "outputs": [],
   "source": [
    "single_obs = [[45, 1, 2500,3,1,600,37000,0.7373, 0.9035, 0.4877, 0.515977, 0.580918, 0.380918, 10, 0, 0, 0, 36, 30]]"
   ]
  },
  {
   "cell_type": "code",
   "execution_count": 109,
   "id": "0d041427",
   "metadata": {},
   "outputs": [
    {
     "data": {
      "text/plain": [
       "array([0])"
      ]
     },
     "execution_count": 109,
     "metadata": {},
     "output_type": "execute_result"
    }
   ],
   "source": [
    "classifier.predict(sc.transform(single_obs))"
   ]
  }
 ],
 "metadata": {
  "kernelspec": {
   "display_name": "Python 3 (ipykernel)",
   "language": "python",
   "name": "python3"
  },
  "language_info": {
   "codemirror_mode": {
    "name": "ipython",
    "version": 3
   },
   "file_extension": ".py",
   "mimetype": "text/x-python",
   "name": "python",
   "nbconvert_exporter": "python",
   "pygments_lexer": "ipython3",
   "version": "3.9.7"
  }
 },
 "nbformat": 4,
 "nbformat_minor": 5
}
